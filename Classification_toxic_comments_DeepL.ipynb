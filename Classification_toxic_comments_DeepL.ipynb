{
  "nbformat": 4,
  "nbformat_minor": 0,
  "metadata": {
    "colab": {
      "name": "Classification_toxic_comments_DeepL.ipynb",
      "provenance": [],
      "collapsed_sections": [],
      "authorship_tag": "ABX9TyOGY/8WG9FdbFihoLq/OOu8",
      "include_colab_link": true
    },
    "kernelspec": {
      "name": "python3",
      "display_name": "Python 3"
    },
    "language_info": {
      "name": "python"
    },
    "accelerator": "TPU"
  },
  "cells": [
    {
      "cell_type": "markdown",
      "metadata": {
        "id": "view-in-github",
        "colab_type": "text"
      },
      "source": [
        "<a href=\"https://colab.research.google.com/github/Nicolas-BZRD/NLP-Classification-Toxic-Comments/blob/main/Classification_toxic_comments_DeepL.ipynb\" target=\"_parent\"><img src=\"https://colab.research.google.com/assets/colab-badge.svg\" alt=\"Open In Colab\"/></a>"
      ]
    },
    {
      "cell_type": "code",
      "execution_count": 1,
      "metadata": {
        "id": "Ylth3Ce-lyJ0",
        "colab": {
          "base_uri": "https://localhost:8080/"
        },
        "outputId": "a006a852-1abb-41da-8e9a-e489a4cb5cc0"
      },
      "outputs": [
        {
          "output_type": "stream",
          "name": "stdout",
          "text": [
            "[nltk_data] Downloading package stopwords to /root/nltk_data...\n",
            "[nltk_data]   Unzipping corpora/stopwords.zip.\n"
          ]
        }
      ],
      "source": [
        "import tensorflow as tf\n",
        "import tensorflow_datasets as tfds\n",
        "import pandas as pd\n",
        "import numpy as np\n",
        "from sklearn import model_selection\n",
        "from sklearn import metrics\n",
        "from sklearn.model_selection import train_test_split\n",
        "import matplotlib.pyplot as plt\n",
        "\n",
        "from tensorflow.keras.preprocessing.text import Tokenizer\n",
        "from tensorflow.keras.layers import GRU, Dense, Embedding\n",
        "from tensorflow.keras import Sequential\n",
        "from tensorflow.keras.losses import BinaryCrossentropy\n",
        "from tensorflow.keras.optimizers import Adam\n",
        "from tensorflow.keras.preprocessing.sequence import pad_sequences\n",
        "\n",
        "import nltk\n",
        "from nltk.corpus import stopwords\n",
        "nltk.download('stopwords')\n",
        "from nltk.tokenize import word_tokenize"
      ]
    },
    {
      "cell_type": "code",
      "source": [
        "from google.colab import drive\n",
        "drive.mount('/content/drive', force_remount=True)"
      ],
      "metadata": {
        "colab": {
          "base_uri": "https://localhost:8080/"
        },
        "id": "prmwowjol3yt",
        "outputId": "02f701a1-7817-4cf5-e079-04cccdbd7c5a"
      },
      "execution_count": 2,
      "outputs": [
        {
          "output_type": "stream",
          "name": "stdout",
          "text": [
            "Mounted at /content/drive\n"
          ]
        }
      ]
    },
    {
      "cell_type": "markdown",
      "source": [
        "#Load data"
      ],
      "metadata": {
        "id": "y_Rv0kkvfO-C"
      }
    },
    {
      "cell_type": "code",
      "source": [
        "data = pd.read_csv('/content/drive/MyDrive/Google_Colab/NLP_Classification_Toxic_Comments/train.csv')\n",
        "data.head(5)"
      ],
      "metadata": {
        "colab": {
          "base_uri": "https://localhost:8080/",
          "height": 206
        },
        "id": "JJmHgVA4l5kg",
        "outputId": "eae83ba0-7f12-47ef-8f87-61ac78412a4a"
      },
      "execution_count": 3,
      "outputs": [
        {
          "output_type": "execute_result",
          "data": {
            "text/plain": [
              "                 id                                       comment_text  toxic  \\\n",
              "0  0000997932d777bf  Explanation\\nWhy the edits made under my usern...      0   \n",
              "1  000103f0d9cfb60f  D'aww! He matches this background colour I'm s...      0   \n",
              "2  000113f07ec002fd  Hey man, I'm really not trying to edit war. It...      0   \n",
              "3  0001b41b1c6bb37e  \"\\nMore\\nI can't make any real suggestions on ...      0   \n",
              "4  0001d958c54c6e35  You, sir, are my hero. Any chance you remember...      0   \n",
              "\n",
              "   severe_toxic  obscene  threat  insult  identity_hate  \n",
              "0             0        0       0       0              0  \n",
              "1             0        0       0       0              0  \n",
              "2             0        0       0       0              0  \n",
              "3             0        0       0       0              0  \n",
              "4             0        0       0       0              0  "
            ],
            "text/html": [
              "\n",
              "  <div id=\"df-d96aee54-e78a-42ab-bf18-d3c9cba7e338\">\n",
              "    <div class=\"colab-df-container\">\n",
              "      <div>\n",
              "<style scoped>\n",
              "    .dataframe tbody tr th:only-of-type {\n",
              "        vertical-align: middle;\n",
              "    }\n",
              "\n",
              "    .dataframe tbody tr th {\n",
              "        vertical-align: top;\n",
              "    }\n",
              "\n",
              "    .dataframe thead th {\n",
              "        text-align: right;\n",
              "    }\n",
              "</style>\n",
              "<table border=\"1\" class=\"dataframe\">\n",
              "  <thead>\n",
              "    <tr style=\"text-align: right;\">\n",
              "      <th></th>\n",
              "      <th>id</th>\n",
              "      <th>comment_text</th>\n",
              "      <th>toxic</th>\n",
              "      <th>severe_toxic</th>\n",
              "      <th>obscene</th>\n",
              "      <th>threat</th>\n",
              "      <th>insult</th>\n",
              "      <th>identity_hate</th>\n",
              "    </tr>\n",
              "  </thead>\n",
              "  <tbody>\n",
              "    <tr>\n",
              "      <th>0</th>\n",
              "      <td>0000997932d777bf</td>\n",
              "      <td>Explanation\\nWhy the edits made under my usern...</td>\n",
              "      <td>0</td>\n",
              "      <td>0</td>\n",
              "      <td>0</td>\n",
              "      <td>0</td>\n",
              "      <td>0</td>\n",
              "      <td>0</td>\n",
              "    </tr>\n",
              "    <tr>\n",
              "      <th>1</th>\n",
              "      <td>000103f0d9cfb60f</td>\n",
              "      <td>D'aww! He matches this background colour I'm s...</td>\n",
              "      <td>0</td>\n",
              "      <td>0</td>\n",
              "      <td>0</td>\n",
              "      <td>0</td>\n",
              "      <td>0</td>\n",
              "      <td>0</td>\n",
              "    </tr>\n",
              "    <tr>\n",
              "      <th>2</th>\n",
              "      <td>000113f07ec002fd</td>\n",
              "      <td>Hey man, I'm really not trying to edit war. It...</td>\n",
              "      <td>0</td>\n",
              "      <td>0</td>\n",
              "      <td>0</td>\n",
              "      <td>0</td>\n",
              "      <td>0</td>\n",
              "      <td>0</td>\n",
              "    </tr>\n",
              "    <tr>\n",
              "      <th>3</th>\n",
              "      <td>0001b41b1c6bb37e</td>\n",
              "      <td>\"\\nMore\\nI can't make any real suggestions on ...</td>\n",
              "      <td>0</td>\n",
              "      <td>0</td>\n",
              "      <td>0</td>\n",
              "      <td>0</td>\n",
              "      <td>0</td>\n",
              "      <td>0</td>\n",
              "    </tr>\n",
              "    <tr>\n",
              "      <th>4</th>\n",
              "      <td>0001d958c54c6e35</td>\n",
              "      <td>You, sir, are my hero. Any chance you remember...</td>\n",
              "      <td>0</td>\n",
              "      <td>0</td>\n",
              "      <td>0</td>\n",
              "      <td>0</td>\n",
              "      <td>0</td>\n",
              "      <td>0</td>\n",
              "    </tr>\n",
              "  </tbody>\n",
              "</table>\n",
              "</div>\n",
              "      <button class=\"colab-df-convert\" onclick=\"convertToInteractive('df-d96aee54-e78a-42ab-bf18-d3c9cba7e338')\"\n",
              "              title=\"Convert this dataframe to an interactive table.\"\n",
              "              style=\"display:none;\">\n",
              "        \n",
              "  <svg xmlns=\"http://www.w3.org/2000/svg\" height=\"24px\"viewBox=\"0 0 24 24\"\n",
              "       width=\"24px\">\n",
              "    <path d=\"M0 0h24v24H0V0z\" fill=\"none\"/>\n",
              "    <path d=\"M18.56 5.44l.94 2.06.94-2.06 2.06-.94-2.06-.94-.94-2.06-.94 2.06-2.06.94zm-11 1L8.5 8.5l.94-2.06 2.06-.94-2.06-.94L8.5 2.5l-.94 2.06-2.06.94zm10 10l.94 2.06.94-2.06 2.06-.94-2.06-.94-.94-2.06-.94 2.06-2.06.94z\"/><path d=\"M17.41 7.96l-1.37-1.37c-.4-.4-.92-.59-1.43-.59-.52 0-1.04.2-1.43.59L10.3 9.45l-7.72 7.72c-.78.78-.78 2.05 0 2.83L4 21.41c.39.39.9.59 1.41.59.51 0 1.02-.2 1.41-.59l7.78-7.78 2.81-2.81c.8-.78.8-2.07 0-2.86zM5.41 20L4 18.59l7.72-7.72 1.47 1.35L5.41 20z\"/>\n",
              "  </svg>\n",
              "      </button>\n",
              "      \n",
              "  <style>\n",
              "    .colab-df-container {\n",
              "      display:flex;\n",
              "      flex-wrap:wrap;\n",
              "      gap: 12px;\n",
              "    }\n",
              "\n",
              "    .colab-df-convert {\n",
              "      background-color: #E8F0FE;\n",
              "      border: none;\n",
              "      border-radius: 50%;\n",
              "      cursor: pointer;\n",
              "      display: none;\n",
              "      fill: #1967D2;\n",
              "      height: 32px;\n",
              "      padding: 0 0 0 0;\n",
              "      width: 32px;\n",
              "    }\n",
              "\n",
              "    .colab-df-convert:hover {\n",
              "      background-color: #E2EBFA;\n",
              "      box-shadow: 0px 1px 2px rgba(60, 64, 67, 0.3), 0px 1px 3px 1px rgba(60, 64, 67, 0.15);\n",
              "      fill: #174EA6;\n",
              "    }\n",
              "\n",
              "    [theme=dark] .colab-df-convert {\n",
              "      background-color: #3B4455;\n",
              "      fill: #D2E3FC;\n",
              "    }\n",
              "\n",
              "    [theme=dark] .colab-df-convert:hover {\n",
              "      background-color: #434B5C;\n",
              "      box-shadow: 0px 1px 3px 1px rgba(0, 0, 0, 0.15);\n",
              "      filter: drop-shadow(0px 1px 2px rgba(0, 0, 0, 0.3));\n",
              "      fill: #FFFFFF;\n",
              "    }\n",
              "  </style>\n",
              "\n",
              "      <script>\n",
              "        const buttonEl =\n",
              "          document.querySelector('#df-d96aee54-e78a-42ab-bf18-d3c9cba7e338 button.colab-df-convert');\n",
              "        buttonEl.style.display =\n",
              "          google.colab.kernel.accessAllowed ? 'block' : 'none';\n",
              "\n",
              "        async function convertToInteractive(key) {\n",
              "          const element = document.querySelector('#df-d96aee54-e78a-42ab-bf18-d3c9cba7e338');\n",
              "          const dataTable =\n",
              "            await google.colab.kernel.invokeFunction('convertToInteractive',\n",
              "                                                     [key], {});\n",
              "          if (!dataTable) return;\n",
              "\n",
              "          const docLinkHtml = 'Like what you see? Visit the ' +\n",
              "            '<a target=\"_blank\" href=https://colab.research.google.com/notebooks/data_table.ipynb>data table notebook</a>'\n",
              "            + ' to learn more about interactive tables.';\n",
              "          element.innerHTML = '';\n",
              "          dataTable['output_type'] = 'display_data';\n",
              "          await google.colab.output.renderOutput(dataTable, element);\n",
              "          const docLink = document.createElement('div');\n",
              "          docLink.innerHTML = docLinkHtml;\n",
              "          element.appendChild(docLink);\n",
              "        }\n",
              "      </script>\n",
              "    </div>\n",
              "  </div>\n",
              "  "
            ]
          },
          "metadata": {},
          "execution_count": 3
        }
      ]
    },
    {
      "cell_type": "code",
      "source": [
        "fig = plt.figure()\n",
        "ax = fig.add_axes([0,0,1,1])\n",
        "types = ['Valide', 'Toxic', 'Severe Toxic','Obscene', 'Threat', 'Insult', 'Identity Hate']\n",
        "values = [\n",
        "          len(data[(data['toxic'] == 0) & (data['severe_toxic'] == 0) & (data['obscene'] == 0) & (data['threat'] == 0) & (data['insult'] == 0) & (data['identity_hate'] == 0)]),\n",
        "          data['toxic'].value_counts()[1],\n",
        "          data['severe_toxic'].value_counts()[1],\n",
        "          data['obscene'].value_counts()[1],\n",
        "          data['threat'].value_counts()[1],\n",
        "          data['insult'].value_counts()[1],\n",
        "          data['identity_hate'].value_counts()[1],\n",
        "          ]\n",
        "ax.bar(types,values)\n",
        "plt.show()"
      ],
      "metadata": {
        "colab": {
          "base_uri": "https://localhost:8080/",
          "height": 336
        },
        "id": "eW4ttCTPzoUw",
        "outputId": "ba021ddc-c9df-4d34-af27-3ed899fdf3e9"
      },
      "execution_count": 4,
      "outputs": [
        {
          "output_type": "display_data",
          "data": {
            "text/plain": [
              "<Figure size 432x288 with 1 Axes>"
            ],
            "image/png": "[encoded data removed]"
          },
          "metadata": {
            "needs_background": "light"
          }
        }
      ]
    },
    {
      "cell_type": "code",
      "source": [
        "valide_indices = data.index[(data['toxic'] == 0) & (data['severe_toxic'] == 0) & (data['obscene'] == 0) & (data['threat'] == 0) & (data['insult'] == 0) & (data['identity_hate'] == 0)]\n",
        "data.drop(valide_indices[:int(len(valide_indices) * 0.8)], inplace=True)"
      ],
      "metadata": {
        "id": "IbGXzXqAD5W3"
      },
      "execution_count": 5,
      "outputs": []
    },
    {
      "cell_type": "code",
      "source": [
        "fig = plt.figure()\n",
        "ax = fig.add_axes([0,0,1,1])\n",
        "types = ['Valide', 'Toxic', 'Severe Toxic','Obscene', 'Threat', 'Insult', 'Identity Hate']\n",
        "values = [\n",
        "          len(data[(data['toxic'] == 0) & (data['severe_toxic'] == 0) & (data['obscene'] == 0) & (data['threat'] == 0) & (data['insult'] == 0) & (data['identity_hate'] == 0)]),\n",
        "          data['toxic'].value_counts()[1],\n",
        "          data['severe_toxic'].value_counts()[1],\n",
        "          data['obscene'].value_counts()[1],\n",
        "          data['threat'].value_counts()[1],\n",
        "          data['insult'].value_counts()[1],\n",
        "          data['identity_hate'].value_counts()[1],\n",
        "          ]\n",
        "ax.bar(types,values)\n",
        "plt.show()"
      ],
      "metadata": {
        "colab": {
          "base_uri": "https://localhost:8080/",
          "height": 339
        },
        "id": "v9Y7u29TmhkJ",
        "outputId": "da73a891-a2be-4c82-bdd7-7569a41e4586"
      },
      "execution_count": 6,
      "outputs": [
        {
          "output_type": "display_data",
          "data": {
            "text/plain": [
              "<Figure size 432x288 with 1 Axes>"
            ],
            "image/png": "[encoded data removed]"
          },
          "metadata": {
            "needs_background": "light"
          }
        }
      ]
    },
    {
      "cell_type": "code",
      "source": [
        "stop_word = list(stopwords.words('english'))"
      ],
      "metadata": {
        "id": "xWcWkK8od5m6"
      },
      "execution_count": 7,
      "outputs": []
    },
    {
      "cell_type": "code",
      "source": [
        "data['comment_text'] = data['comment_text'].apply(lambda x : x.replace('\\ufeff', ''))\n",
        "data['comment_text'] = data['comment_text'].apply(lambda x : x.replace('\\xa0', ''))\n",
        "data['comment_text'] = data['comment_text'].apply(lambda x : x.replace('&#39;', ' '))\n",
        "data['comment_text'] = data['comment_text'].apply(lambda x : x.lower())\n",
        "data['comment_text'] = data['comment_text'].apply(lambda x : ''.join([i for i in x if not i.isdigit()]))\n",
        "data['comment_text'] = data['comment_text'].apply(lambda x : ''.join([w+' ' for w in x.split() if not w in stop_word]))\n"
      ],
      "metadata": {
        "id": "K18Qx6nj0f5d"
      },
      "execution_count": 8,
      "outputs": []
    },
    {
      "cell_type": "code",
      "source": [
        "data.head(5)"
      ],
      "metadata": {
        "colab": {
          "base_uri": "https://localhost:8080/",
          "height": 206
        },
        "id": "BlRlzvutXvjz",
        "outputId": "b444fa7a-0a18-4975-ab7c-ce4cbd59b606"
      },
      "execution_count": 9,
      "outputs": [
        {
          "output_type": "execute_result",
          "data": {
            "text/plain": [
              "                  id                                       comment_text  \\\n",
              "6   0002bcb3da6cb337                       cocksucker piss around work    \n",
              "12  0005c987bdfc9d4b  hey... it.. @ | talk . it... exclusive group w...   \n",
              "16  0007e25b2121310b       bye! look, come think comming back! tosser.    \n",
              "42  001810bf8c45bf5f  gay antisemmitian? archangel white tiger meow!...   \n",
              "43  00190820581d90ce                      fuck filthy mother ass, dry!    \n",
              "\n",
              "    toxic  severe_toxic  obscene  threat  insult  identity_hate  \n",
              "6       1             1        1       0       1              0  \n",
              "12      1             0        0       0       0              0  \n",
              "16      1             0        0       0       0              0  \n",
              "42      1             0        1       0       1              1  \n",
              "43      1             0        1       0       1              0  "
            ],
            "text/html": [
              "\n",
              "  <div id=\"df-ce02a1be-404a-42a0-b6bc-b20a3df1ba2f\">\n",
              "    <div class=\"colab-df-container\">\n",
              "      <div>\n",
              "<style scoped>\n",
              "    .dataframe tbody tr th:only-of-type {\n",
              "        vertical-align: middle;\n",
              "    }\n",
              "\n",
              "    .dataframe tbody tr th {\n",
              "        vertical-align: top;\n",
              "    }\n",
              "\n",
              "    .dataframe thead th {\n",
              "        text-align: right;\n",
              "    }\n",
              "</style>\n",
              "<table border=\"1\" class=\"dataframe\">\n",
              "  <thead>\n",
              "    <tr style=\"text-align: right;\">\n",
              "      <th></th>\n",
              "      <th>id</th>\n",
              "      <th>comment_text</th>\n",
              "      <th>toxic</th>\n",
              "      <th>severe_toxic</th>\n",
              "      <th>obscene</th>\n",
              "      <th>threat</th>\n",
              "      <th>insult</th>\n",
              "      <th>identity_hate</th>\n",
              "    </tr>\n",
              "  </thead>\n",
              "  <tbody>\n",
              "    <tr>\n",
              "      <th>6</th>\n",
              "      <td>0002bcb3da6cb337</td>\n",
              "      <td>cocksucker piss around work</td>\n",
              "      <td>1</td>\n",
              "      <td>1</td>\n",
              "      <td>1</td>\n",
              "      <td>0</td>\n",
              "      <td>1</td>\n",
              "      <td>0</td>\n",
              "    </tr>\n",
              "    <tr>\n",
              "      <th>12</th>\n",
              "      <td>0005c987bdfc9d4b</td>\n",
              "      <td>hey... it.. @ | talk . it... exclusive group w...</td>\n",
              "      <td>1</td>\n",
              "      <td>0</td>\n",
              "      <td>0</td>\n",
              "      <td>0</td>\n",
              "      <td>0</td>\n",
              "      <td>0</td>\n",
              "    </tr>\n",
              "    <tr>\n",
              "      <th>16</th>\n",
              "      <td>0007e25b2121310b</td>\n",
              "      <td>bye! look, come think comming back! tosser.</td>\n",
              "      <td>1</td>\n",
              "      <td>0</td>\n",
              "      <td>0</td>\n",
              "      <td>0</td>\n",
              "      <td>0</td>\n",
              "      <td>0</td>\n",
              "    </tr>\n",
              "    <tr>\n",
              "      <th>42</th>\n",
              "      <td>001810bf8c45bf5f</td>\n",
              "      <td>gay antisemmitian? archangel white tiger meow!...</td>\n",
              "      <td>1</td>\n",
              "      <td>0</td>\n",
              "      <td>1</td>\n",
              "      <td>0</td>\n",
              "      <td>1</td>\n",
              "      <td>1</td>\n",
              "    </tr>\n",
              "    <tr>\n",
              "      <th>43</th>\n",
              "      <td>00190820581d90ce</td>\n",
              "      <td>fuck filthy mother ass, dry!</td>\n",
              "      <td>1</td>\n",
              "      <td>0</td>\n",
              "      <td>1</td>\n",
              "      <td>0</td>\n",
              "      <td>1</td>\n",
              "      <td>0</td>\n",
              "    </tr>\n",
              "  </tbody>\n",
              "</table>\n",
              "</div>\n",
              "      <button class=\"colab-df-convert\" onclick=\"convertToInteractive('df-ce02a1be-404a-42a0-b6bc-b20a3df1ba2f')\"\n",
              "              title=\"Convert this dataframe to an interactive table.\"\n",
              "              style=\"display:none;\">\n",
              "        \n",
              "  <svg xmlns=\"http://www.w3.org/2000/svg\" height=\"24px\"viewBox=\"0 0 24 24\"\n",
              "       width=\"24px\">\n",
              "    <path d=\"M0 0h24v24H0V0z\" fill=\"none\"/>\n",
              "    <path d=\"M18.56 5.44l.94 2.06.94-2.06 2.06-.94-2.06-.94-.94-2.06-.94 2.06-2.06.94zm-11 1L8.5 8.5l.94-2.06 2.06-.94-2.06-.94L8.5 2.5l-.94 2.06-2.06.94zm10 10l.94 2.06.94-2.06 2.06-.94-2.06-.94-.94-2.06-.94 2.06-2.06.94z\"/><path d=\"M17.41 7.96l-1.37-1.37c-.4-.4-.92-.59-1.43-.59-.52 0-1.04.2-1.43.59L10.3 9.45l-7.72 7.72c-.78.78-.78 2.05 0 2.83L4 21.41c.39.39.9.59 1.41.59.51 0 1.02-.2 1.41-.59l7.78-7.78 2.81-2.81c.8-.78.8-2.07 0-2.86zM5.41 20L4 18.59l7.72-7.72 1.47 1.35L5.41 20z\"/>\n",
              "  </svg>\n",
              "      </button>\n",
              "      \n",
              "  <style>\n",
              "    .colab-df-container {\n",
              "      display:flex;\n",
              "      flex-wrap:wrap;\n",
              "      gap: 12px;\n",
              "    }\n",
              "\n",
              "    .colab-df-convert {\n",
              "      background-color: #E8F0FE;\n",
              "      border: none;\n",
              "      border-radius: 50%;\n",
              "      cursor: pointer;\n",
              "      display: none;\n",
              "      fill: #1967D2;\n",
              "      height: 32px;\n",
              "      padding: 0 0 0 0;\n",
              "      width: 32px;\n",
              "    }\n",
              "\n",
              "    .colab-df-convert:hover {\n",
              "      background-color: #E2EBFA;\n",
              "      box-shadow: 0px 1px 2px rgba(60, 64, 67, 0.3), 0px 1px 3px 1px rgba(60, 64, 67, 0.15);\n",
              "      fill: #174EA6;\n",
              "    }\n",
              "\n",
              "    [theme=dark] .colab-df-convert {\n",
              "      background-color: #3B4455;\n",
              "      fill: #D2E3FC;\n",
              "    }\n",
              "\n",
              "    [theme=dark] .colab-df-convert:hover {\n",
              "      background-color: #434B5C;\n",
              "      box-shadow: 0px 1px 3px 1px rgba(0, 0, 0, 0.15);\n",
              "      filter: drop-shadow(0px 1px 2px rgba(0, 0, 0, 0.3));\n",
              "      fill: #FFFFFF;\n",
              "    }\n",
              "  </style>\n",
              "\n",
              "      <script>\n",
              "        const buttonEl =\n",
              "          document.querySelector('#df-ce02a1be-404a-42a0-b6bc-b20a3df1ba2f button.colab-df-convert');\n",
              "        buttonEl.style.display =\n",
              "          google.colab.kernel.accessAllowed ? 'block' : 'none';\n",
              "\n",
              "        async function convertToInteractive(key) {\n",
              "          const element = document.querySelector('#df-ce02a1be-404a-42a0-b6bc-b20a3df1ba2f');\n",
              "          const dataTable =\n",
              "            await google.colab.kernel.invokeFunction('convertToInteractive',\n",
              "                                                     [key], {});\n",
              "          if (!dataTable) return;\n",
              "\n",
              "          const docLinkHtml = 'Like what you see? Visit the ' +\n",
              "            '<a target=\"_blank\" href=https://colab.research.google.com/notebooks/data_table.ipynb>data table notebook</a>'\n",
              "            + ' to learn more about interactive tables.';\n",
              "          element.innerHTML = '';\n",
              "          dataTable['output_type'] = 'display_data';\n",
              "          await google.colab.output.renderOutput(dataTable, element);\n",
              "          const docLink = document.createElement('div');\n",
              "          docLink.innerHTML = docLinkHtml;\n",
              "          element.appendChild(docLink);\n",
              "        }\n",
              "      </script>\n",
              "    </div>\n",
              "  </div>\n",
              "  "
            ]
          },
          "metadata": {},
          "execution_count": 9
        }
      ]
    },
    {
      "cell_type": "markdown",
      "source": [
        "#Pre-processing text"
      ],
      "metadata": {
        "id": "HXzfLIvFfLVB"
      }
    },
    {
      "cell_type": "code",
      "source": [
        "def avg(lst):\n",
        "  tmp = 0\n",
        "  for i in lst:\n",
        "    tmp = tmp+len(i)\n",
        "  return int(tmp/len(lst))"
      ],
      "metadata": {
        "id": "EaOp8LdumGev"
      },
      "execution_count": 10,
      "outputs": []
    },
    {
      "cell_type": "code",
      "source": [
        "x = data['comment_text'].to_numpy()"
      ],
      "metadata": {
        "id": "M5a7xm2Xfafd"
      },
      "execution_count": 11,
      "outputs": []
    },
    {
      "cell_type": "code",
      "source": [
        "tok = Tokenizer()\n",
        "tok.fit_on_texts(x)\n",
        "\n",
        "vocab_size = len(tok.word_index)\n",
        "x_tok = tok.texts_to_sequences(x)\n",
        "max_length = len(max(x_tok, key=len))\n",
        "avr_length = avg(x_tok)\n",
        "\n",
        "print(\"Number voc: {}, max length: {}, average size: {}\".format(vocab_size, max_length, avr_length))"
      ],
      "metadata": {
        "colab": {
          "base_uri": "https://localhost:8080/"
        },
        "id": "Skk0kcdhfK8s",
        "outputId": "b11773d3-1527-4d4b-934d-879a1a83ea9b"
      },
      "execution_count": 12,
      "outputs": [
        {
          "output_type": "stream",
          "name": "stdout",
          "text": [
            "Number voc: 85502, max length: 1349, average size: 35\n"
          ]
        }
      ]
    },
    {
      "cell_type": "code",
      "source": [
        "x_tok = tok.texts_to_sequences(x)"
      ],
      "metadata": {
        "id": "Gnc33aPPgdwf"
      },
      "execution_count": 13,
      "outputs": []
    },
    {
      "cell_type": "code",
      "source": [
        "x_tok = pad_sequences(x_tok,padding=\"post\", maxlen=1349)"
      ],
      "metadata": {
        "id": "kIuv8K6pkFOB"
      },
      "execution_count": 14,
      "outputs": []
    },
    {
      "cell_type": "code",
      "source": [
        "print(x[0])\n",
        "print(tok.texts_to_sequences([\"cocksucker\"]))\n",
        "print(x_tok[0])"
      ],
      "metadata": {
        "colab": {
          "base_uri": "https://localhost:8080/"
        },
        "id": "NhCBAfm6kb9g",
        "outputId": "2677f380-152b-4e16-cd9b-d8720ac1d546"
      },
      "execution_count": 15,
      "outputs": [
        {
          "output_type": "stream",
          "name": "stdout",
          "text": [
            "cocksucker piss around work \n",
            "[[517]]\n",
            "[ 517 1414  212 ...    0    0    0]\n"
          ]
        }
      ]
    },
    {
      "cell_type": "markdown",
      "source": [
        "#Model"
      ],
      "metadata": {
        "id": "kot26sfqc4W1"
      }
    },
    {
      "cell_type": "markdown",
      "source": [
        "##Toxic"
      ],
      "metadata": {
        "id": "D7TXHuqEeDoC"
      }
    },
    {
      "cell_type": "code",
      "source": [
        "y = data['toxic'].to_numpy()\n",
        "X_train, X_test, y_train, y_test = train_test_split(x_tok, y, test_size=0.2, random_state=1)"
      ],
      "metadata": {
        "id": "-P3azyaZnNXs"
      },
      "execution_count": 16,
      "outputs": []
    },
    {
      "cell_type": "code",
      "source": [
        "model_tox = tf.keras.Sequential([\n",
        "    tf.keras.layers.Embedding(vocab_size, 100, input_length=max_length),\n",
        "    tf.keras.layers.Bidirectional(tf.keras.layers.GRU(int(avr_length))),\n",
        "    tf.keras.layers.Dropout(0.5),\n",
        "    tf.keras.layers.Dense(6, activation='relu'),\n",
        "    tf.keras.layers.Dropout(0.5),\n",
        "    tf.keras.layers.Dense(1, activation='sigmoid')\n",
        "])\n",
        "model_tox.compile(loss='binary_crossentropy',optimizer='adam',metrics=['accuracy'])\n",
        "model_tox.summary()"
      ],
      "metadata": {
        "colab": {
          "base_uri": "https://localhost:8080/"
        },
        "id": "8KdKfAz9dky4",
        "outputId": "8af633bf-0cc4-4574-c508-175cbfedcf1c"
      },
      "execution_count": 17,
      "outputs": [
        {
          "output_type": "stream",
          "name": "stdout",
          "text": [
            "Model: \"sequential\"\n",
            "_________________________________________________________________\n",
            " Layer (type)                Output Shape              Param #   \n",
            "=================================================================\n",
            " embedding (Embedding)       (None, 1349, 100)         8550200   \n",
            "                                                                 \n",
            " bidirectional (Bidirectiona  (None, 70)               28770     \n",
            " l)                                                              \n",
            "                                                                 \n",
            " dropout (Dropout)           (None, 70)                0         \n",
            "                                                                 \n",
            " dense (Dense)               (None, 6)                 426       \n",
            "                                                                 \n",
            " dropout_1 (Dropout)         (None, 6)                 0         \n",
            "                                                                 \n",
            " dense_1 (Dense)             (None, 1)                 7         \n",
            "                                                                 \n",
            "=================================================================\n",
            "Total params: 8,579,403\n",
            "Trainable params: 8,579,403\n",
            "Non-trainable params: 0\n",
            "_________________________________________________________________\n"
          ]
        }
      ]
    },
    {
      "cell_type": "code",
      "source": [
        "weight = np.ones(shape=(len(y_train),))\n",
        "weight[y_train == 1] = int(y_train.tolist().count(0)/y_train.tolist().count(1))"
      ],
      "metadata": {
        "id": "bcAnJDCtHpAG"
      },
      "execution_count": 18,
      "outputs": []
    },
    {
      "cell_type": "code",
      "source": [
        "history = model_tox.fit(X_train, y_train, validation_data=(X_test, y_test), sample_weight=weight, batch_size=256, epochs=5)"
      ],
      "metadata": {
        "colab": {
          "base_uri": "https://localhost:8080/"
        },
        "id": "_jmSVkY-nf80",
        "outputId": "ca14e336-a3c0-4804-9e8a-35c9c719fa71"
      },
      "execution_count": null,
      "outputs": [
        {
          "output_type": "stream",
          "name": "stdout",
          "text": [
            "Epoch 1/5\n",
            " 18/141 [==>...........................] - ETA: 8:40 - loss: 0.6626 - accuracy: 0.6554"
          ]
        }
      ]
    },
    {
      "cell_type": "code",
      "source": [
        "model_tox.predict(X_test[0:5])"
      ],
      "metadata": {
        "id": "IqZSxVEvsXSD"
      },
      "execution_count": null,
      "outputs": []
    },
    {
      "cell_type": "code",
      "source": [
        "y_test[0:5]"
      ],
      "metadata": {
        "id": "DpWid6PnsgYN"
      },
      "execution_count": null,
      "outputs": []
    },
    {
      "cell_type": "markdown",
      "source": [
        "##Severe toxic"
      ],
      "metadata": {
        "id": "i8Gm_s4avqMY"
      }
    },
    {
      "cell_type": "code",
      "source": [
        "y = data['severe_toxic'].to_numpy()\n",
        "X_train, X_test, y_train, y_test = train_test_split(x_tok, y, test_size=0.2, random_state=1)"
      ],
      "metadata": {
        "id": "Q7ZCr92HvtYQ"
      },
      "execution_count": null,
      "outputs": []
    },
    {
      "cell_type": "code",
      "source": [
        "model_svr_tox = tf.keras.Sequential([\n",
        "    tf.keras.layers.Embedding(vocab_size, 100, input_length=max_length),\n",
        "    tf.keras.layers.Bidirectional(tf.keras.layers.GRU(int(avr_length))),\n",
        "    tf.keras.layers.Dropout(0.5),\n",
        "    tf.keras.layers.Dense(6, activation='relu'),\n",
        "    tf.keras.layers.Dropout(0.5),\n",
        "    tf.keras.layers.Dense(1, activation='sigmoid')\n",
        "])\n",
        "model_svr_tox.compile(loss='binary_crossentropy',optimizer='adam',metrics=['accuracy'])\n",
        "model_svr_tox.summary()"
      ],
      "metadata": {
        "id": "Lr1Lpb35wiT9"
      },
      "execution_count": null,
      "outputs": []
    },
    {
      "cell_type": "code",
      "source": [
        "weight = np.ones(shape=(len(y_train),))\n",
        "weight[y_train == 1] = int(y_train.tolist().count(0)/y_train.tolist().count(1))"
      ],
      "metadata": {
        "id": "GOhEpgaJEuB3"
      },
      "execution_count": null,
      "outputs": []
    },
    {
      "cell_type": "code",
      "source": [
        "history = model_svr_tox.fit(X_train, y_train, validation_data=(X_test, y_test), sample_weight=weight, batch_size=256, epochs=5)"
      ],
      "metadata": {
        "id": "LphfLG5FwnCs"
      },
      "execution_count": null,
      "outputs": []
    },
    {
      "cell_type": "code",
      "source": [
        "model_svr_tox.predict(X_test[0:5])"
      ],
      "metadata": {
        "id": "4ez0zQJ-wqIv"
      },
      "execution_count": null,
      "outputs": []
    },
    {
      "cell_type": "code",
      "source": [
        "y_test[0:5]"
      ],
      "metadata": {
        "id": "DpweWsIbwrk-"
      },
      "execution_count": null,
      "outputs": []
    },
    {
      "cell_type": "markdown",
      "source": [
        "##Obscene"
      ],
      "metadata": {
        "id": "Kbd6Oj1vxAs-"
      }
    },
    {
      "cell_type": "code",
      "source": [
        "y = data['obscene'].to_numpy()\n",
        "X_train, X_test, y_train, y_test = train_test_split(x_tok, y, test_size=0.2, random_state=1)"
      ],
      "metadata": {
        "id": "Yypz7ximxIW9"
      },
      "execution_count": null,
      "outputs": []
    },
    {
      "cell_type": "code",
      "source": [
        "model_obscene = tf.keras.Sequential([\n",
        "    tf.keras.layers.Embedding(vocab_size, 100, input_length=max_length),\n",
        "    tf.keras.layers.Bidirectional(tf.keras.layers.GRU(int(avr_length))),\n",
        "    tf.keras.layers.Dropout(0.5),\n",
        "    tf.keras.layers.Dense(6, activation='relu'),\n",
        "    tf.keras.layers.Dropout(0.5),\n",
        "    tf.keras.layers.Dense(1, activation='sigmoid')\n",
        "])\n",
        "model_obscene.compile(loss='binary_crossentropy',optimizer='adam',metrics=['accuracy'])\n",
        "model_obscene.summary()"
      ],
      "metadata": {
        "id": "wMzk7ZtbxOn_"
      },
      "execution_count": null,
      "outputs": []
    },
    {
      "cell_type": "code",
      "source": [
        "weight = np.ones(shape=(len(y_train),))\n",
        "weight[y_train == 1] = int(y_train.tolist().count(0)/y_train.tolist().count(1))"
      ],
      "metadata": {
        "id": "L6sgomHdIC9s"
      },
      "execution_count": null,
      "outputs": []
    },
    {
      "cell_type": "code",
      "source": [
        "history = model_obscene.fit(X_train, y_train, validation_data=(X_test, y_test), sample_weight=weight, batch_size=256, epochs=5)"
      ],
      "metadata": {
        "id": "agZ_1sZcxVPt"
      },
      "execution_count": null,
      "outputs": []
    },
    {
      "cell_type": "code",
      "source": [
        "model_obscene.predict(X_test[0:5])"
      ],
      "metadata": {
        "id": "h3hQv0H-xaIk"
      },
      "execution_count": null,
      "outputs": []
    },
    {
      "cell_type": "code",
      "source": [
        "y_test[0:5]"
      ],
      "metadata": {
        "id": "cb1Ta5kxxfm3"
      },
      "execution_count": null,
      "outputs": []
    },
    {
      "cell_type": "markdown",
      "source": [
        "##Threat"
      ],
      "metadata": {
        "id": "Nv7pE_4vxm02"
      }
    },
    {
      "cell_type": "code",
      "source": [
        "y = data['threat'].to_numpy()\n",
        "X_train, X_test, y_train, y_test = train_test_split(x_tok, y, test_size=0.2, random_state=1)"
      ],
      "metadata": {
        "id": "3PipyiuVxs-F"
      },
      "execution_count": null,
      "outputs": []
    },
    {
      "cell_type": "code",
      "source": [
        "model_threat = tf.keras.Sequential([\n",
        "    tf.keras.layers.Embedding(vocab_size, 100, input_length=max_length),\n",
        "    tf.keras.layers.Bidirectional(tf.keras.layers.GRU(int(avr_length))),\n",
        "    tf.keras.layers.Dropout(0.5),\n",
        "    tf.keras.layers.Dense(6, activation='relu'),\n",
        "    tf.keras.layers.Dropout(0.5),\n",
        "    tf.keras.layers.Dense(1, activation='sigmoid')\n",
        "])\n",
        "model_threat.compile(loss='binary_crossentropy',optimizer='adam',metrics=['accuracy'])\n",
        "model_threat.summary()"
      ],
      "metadata": {
        "id": "MM-oROwTxtPe"
      },
      "execution_count": null,
      "outputs": []
    },
    {
      "cell_type": "code",
      "source": [
        "weight = np.ones(shape=(len(y_train),))\n",
        "weight[y_train == 1] = int(y_train.tolist().count(0)/y_train.tolist().count(1))"
      ],
      "metadata": {
        "id": "1eF7tuMf-9d_"
      },
      "execution_count": null,
      "outputs": []
    },
    {
      "cell_type": "code",
      "source": [
        "history = model_threat.fit(X_train, y_train, validation_data=(X_test, y_test), sample_weight=weight, batch_size=256, epochs=5)"
      ],
      "metadata": {
        "id": "earRah1qxthy"
      },
      "execution_count": null,
      "outputs": []
    },
    {
      "cell_type": "code",
      "source": [
        "model_threat.predict(X_test[0:5])"
      ],
      "metadata": {
        "id": "PrpdsVYTxt0M"
      },
      "execution_count": null,
      "outputs": []
    },
    {
      "cell_type": "code",
      "source": [
        "y_test[0:5]"
      ],
      "metadata": {
        "id": "tyL_XLGQx-rK"
      },
      "execution_count": null,
      "outputs": []
    },
    {
      "cell_type": "markdown",
      "source": [
        "##Insult"
      ],
      "metadata": {
        "id": "iTSmEn4OyCnr"
      }
    },
    {
      "cell_type": "code",
      "source": [
        "y = data['insult'].to_numpy()\n",
        "X_train, X_test, y_train, y_test = train_test_split(x_tok, y, test_size=0.2, random_state=1)"
      ],
      "metadata": {
        "id": "71halXahyGME"
      },
      "execution_count": null,
      "outputs": []
    },
    {
      "cell_type": "code",
      "source": [
        "model_insult = tf.keras.Sequential([\n",
        "    tf.keras.layers.Embedding(vocab_size, 100, input_length=max_length),\n",
        "    tf.keras.layers.Bidirectional(tf.keras.layers.GRU(int(avr_length))),\n",
        "    tf.keras.layers.Dropout(0.5),\n",
        "    tf.keras.layers.Dense(6, activation='relu'),\n",
        "    tf.keras.layers.Dropout(0.5),\n",
        "    tf.keras.layers.Dense(1, activation='sigmoid')\n",
        "])\n",
        "model_insult.compile(loss='binary_crossentropy',optimizer='adam',metrics=['accuracy'])\n",
        "model_insult.summary()"
      ],
      "metadata": {
        "id": "YTUWuTAEyHSv"
      },
      "execution_count": null,
      "outputs": []
    },
    {
      "cell_type": "code",
      "source": [
        "weight = np.ones(shape=(len(y_train),))\n",
        "weight[y_train == 1] = int(y_train.tolist().count(0)/y_train.tolist().count(1))"
      ],
      "metadata": {
        "id": "cLerV4rsINHg"
      },
      "execution_count": null,
      "outputs": []
    },
    {
      "cell_type": "code",
      "source": [
        "history = model_insult.fit(X_train, y_train, validation_data=(X_test, y_test), sample_weight=weight, batch_size=256, epochs=5)"
      ],
      "metadata": {
        "id": "1HkYt2WqyHCv"
      },
      "execution_count": null,
      "outputs": []
    },
    {
      "cell_type": "code",
      "source": [
        "model_insult.predict(X_test[0:5])"
      ],
      "metadata": {
        "id": "-bh8UPlMyG3r"
      },
      "execution_count": null,
      "outputs": []
    },
    {
      "cell_type": "code",
      "source": [
        "y_test[0:5]"
      ],
      "metadata": {
        "id": "8e0go82vyGl2"
      },
      "execution_count": null,
      "outputs": []
    },
    {
      "cell_type": "markdown",
      "source": [
        "##Identity hate"
      ],
      "metadata": {
        "id": "Dhxyk4eSyY6F"
      }
    },
    {
      "cell_type": "code",
      "source": [
        "y = data['identity_hate'].to_numpy()\n",
        "X_train, X_test, y_train, y_test = train_test_split(x_tok, y, test_size=0.2, random_state=1)"
      ],
      "metadata": {
        "id": "g7_gDqrwymB5"
      },
      "execution_count": null,
      "outputs": []
    },
    {
      "cell_type": "code",
      "source": [
        "model_identity_hate = tf.keras.Sequential([\n",
        "    tf.keras.layers.Embedding(vocab_size, 100, input_length=max_length),\n",
        "    tf.keras.layers.Bidirectional(tf.keras.layers.GRU(int(avr_length))),\n",
        "    tf.keras.layers.Dropout(0.5),\n",
        "    tf.keras.layers.Dense(6, activation='relu'),\n",
        "    tf.keras.layers.Dropout(0.5),\n",
        "    tf.keras.layers.Dense(1, activation='sigmoid')\n",
        "])\n",
        "model_identity_hate.compile(loss='binary_crossentropy',optimizer='adam',metrics=['accuracy'])\n",
        "model_identity_hate.summary()"
      ],
      "metadata": {
        "id": "Se888kJeynze"
      },
      "execution_count": null,
      "outputs": []
    },
    {
      "cell_type": "code",
      "source": [
        "weight = np.ones(shape=(len(y_train),))\n",
        "weight[y_train == 1] = int(y_train.tolist().count(0)/y_train.tolist().count(1))"
      ],
      "metadata": {
        "id": "JnsfwpnDECGU"
      },
      "execution_count": null,
      "outputs": []
    },
    {
      "cell_type": "code",
      "source": [
        "history = model_identity_hate.fit(X_train, y_train, validation_data=(X_test, y_test), sample_weight=weight, batch_size=256, epochs=5)"
      ],
      "metadata": {
        "id": "-9IkQ1KLynsp"
      },
      "execution_count": null,
      "outputs": []
    },
    {
      "cell_type": "code",
      "source": [
        "model_identity_hate.predict(X_test[0:5])"
      ],
      "metadata": {
        "id": "vNTfuNL7ynnC"
      },
      "execution_count": null,
      "outputs": []
    },
    {
      "cell_type": "code",
      "source": [
        "y_test[0:5]"
      ],
      "metadata": {
        "id": "Yg9ulMKpyniH"
      },
      "execution_count": null,
      "outputs": []
    },
    {
      "cell_type": "markdown",
      "source": [
        "#Result"
      ],
      "metadata": {
        "id": "e4k48RwYz94V"
      }
    },
    {
      "cell_type": "code",
      "source": [
        "y = data.iloc[:, 2:].to_numpy()\n",
        "X_train, X_test, y_train, y_test = train_test_split(x_tok, y, test_size=0.2, random_state=1)"
      ],
      "metadata": {
        "id": "bccgv1fi0B_Z"
      },
      "execution_count": null,
      "outputs": []
    },
    {
      "cell_type": "code",
      "source": [
        "labels = ['toxic', 'severe_toxic', 'obscene', 'threat', 'insult', 'identity_hate']\n",
        "def compareColumnPredictTarget(column, X, Y):\n",
        "  error = 0\n",
        "  success = 0\n",
        "  true_pos = 0\n",
        "  true_neg = 0\n",
        "  false_pos = 0\n",
        "  false_neg = 0\n",
        "  for i in range(len(X)):\n",
        "    if X[i][column] != Y[i][column]:\n",
        "      error = error + 1\n",
        "      if(X[i][column] == 1 and Y[i][column] == 0):\n",
        "        false_pos = false_pos + 1\n",
        "      else:\n",
        "        false_neg = false_neg + 1\n",
        "    else:\n",
        "      success = success + 1\n",
        "      if(X[i][column] == 1):\n",
        "        true_pos = true_pos+1\n",
        "      else:\n",
        "        true_neg = true_neg+1\n",
        "  return error, success, true_pos, true_neg, false_pos, false_neg"
      ],
      "metadata": {
        "id": "v4F7K8f64FnI"
      },
      "execution_count": null,
      "outputs": []
    },
    {
      "cell_type": "code",
      "source": [
        "tox = model_tox.predict(X_test)\n",
        "srv_tox = model_svr_tox.predict(X_test)\n",
        "obsc = model_obscene.predict(X_test)\n",
        "threat = model_threat.predict(X_test)\n",
        "insult = model_insult.predict(X_test)\n",
        "hate = model_identity_hate.predict(X_test)"
      ],
      "metadata": {
        "id": "wEO3Ql4W2IEW"
      },
      "execution_count": null,
      "outputs": []
    },
    {
      "cell_type": "code",
      "source": [
        "Y_predict = []\n",
        "for index in range(0,len(X_test)):\n",
        "  tmp = []\n",
        "  tmp.append(1 if tox[index] > 0.6 else 0)\n",
        "  tmp.append(1 if srv_tox[index] > 0.95 else 0)\n",
        "  tmp.append(1 if obsc[index] > 0.7 else 0)\n",
        "  tmp.append(1 if threat[index] > 0.92 else 0)\n",
        "  tmp.append(1 if insult[index] > 0.8 else 0)\n",
        "  tmp.append(1 if hate[index] > 0.9 else 0)\n",
        "  Y_predict.append(tmp)\n",
        "\n",
        "for i in range(len(labels)):\n",
        "  error, success, true_pos, true_neg, false_pos, false_neg = compareColumnPredictTarget(i,Y_predict,y_test)\n",
        "  print(\"For label : {0} we have {1} success ({2} true positive and {3} true negative) and {4} errors ({5} false positive and {6} false negative) / Precision: {7}, Recall {8}.\".format(labels[i], success, true_pos, true_neg, error, false_pos, false_neg, true_pos/(true_pos+false_pos), true_pos/(true_pos+false_neg)))"
      ],
      "metadata": {
        "id": "bWAg19P45su0"
      },
      "execution_count": null,
      "outputs": []
    }
  ]
}