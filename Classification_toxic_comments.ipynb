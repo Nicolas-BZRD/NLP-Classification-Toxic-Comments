{
  "nbformat": 4,
  "nbformat_minor": 0,
  "metadata": {
    "colab": {
      "name": "Classification_commentaires_toxiques.ipynb",
      "provenance": [],
      "collapsed_sections": [],
      "include_colab_link": true
    },
    "kernelspec": {
      "name": "python3",
      "display_name": "Python 3"
    },
    "language_info": {
      "name": "python"
    }
  },
  "cells": [
    {
      "cell_type": "markdown",
      "metadata": {
        "id": "view-in-github",
        "colab_type": "text"
      },
      "source": [
        "<a href=\"https://colab.research.google.com/github/Nicolas-BZRD/NLP-Classification-Toxic-Comments/blob/main/Classification_toxic_comments.ipynb\" target=\"_parent\"><img src=\"https://colab.research.google.com/assets/colab-badge.svg\" alt=\"Open In Colab\"/></a>"
      ]
    },
    {
      "cell_type": "markdown",
      "source": [
        "# Importing packages"
      ],
      "metadata": {
        "id": "_lyJzHuKRNWX"
      }
    },
    {
      "cell_type": "code",
      "execution_count": 1,
      "metadata": {
        "id": "MUj96QiIQsJ_"
      },
      "outputs": [],
      "source": [
        "import numpy as np\n",
        "import pandas as pd\n",
        "import matplotlib.pyplot as plt\n",
        "\n",
        "# Import Regex to clean up sentences\n",
        "import re\n",
        "\n",
        "#tf_idf\n",
        "import nltk, string\n",
        "from nltk.corpus import stopwords\n",
        "from nltk.tokenize import word_tokenize\n",
        "from keras.utils import np_utils\n",
        "\n",
        "from sklearn.ensemble import RandomForestClassifier\n",
        "from sklearn.feature_extraction.text import TfidfVectorizer \n",
        "from sklearn.model_selection import train_test_split\n",
        "\n",
        "pd.options.display.max_colwidth = 500"
      ]
    },
    {
      "cell_type": "markdown",
      "source": [
        "# Importing data"
      ],
      "metadata": {
        "id": "xZLpUMItRWc0"
      }
    },
    {
      "cell_type": "markdown",
      "source": [
        "https://drive.google.com/drive/folders/1mx-CAzT10YKrmxHfYDP_1Oef7PVGUr7s?usp=sharing"
      ],
      "metadata": {
        "id": "cbE3MzVKRaV2"
      }
    },
    {
      "cell_type": "code",
      "source": [
        "from google.colab import drive\n",
        "drive.mount('/content/drive', force_remount=True)"
      ],
      "metadata": {
        "colab": {
          "base_uri": "https://localhost:8080/"
        },
        "id": "4FktfCVaRVrs",
        "outputId": "5066a1ca-5ff5-4933-80f7-1c9fc21a9a29"
      },
      "execution_count": 2,
      "outputs": [
        {
          "output_type": "stream",
          "name": "stdout",
          "text": [
            "Mounted at /content/drive\n"
          ]
        }
      ]
    },
    {
      "cell_type": "code",
      "source": [
        "data = pd.read_csv('/content/drive/MyDrive/Google_Colab/NLP_Classification_Toxic_Comments/train.csv')\n",
        "data.head(5)"
      ],
      "metadata": {
        "colab": {
          "base_uri": "https://localhost:8080/",
          "height": 337
        },
        "id": "qky64Lq8Rocy",
        "outputId": "e8e66c41-9972-444b-ca12-7f48e7465778"
      },
      "execution_count": 3,
      "outputs": [
        {
          "output_type": "execute_result",
          "data": {
            "text/plain": [
              "                 id  \\\n",
              "0  0000997932d777bf   \n",
              "1  000103f0d9cfb60f   \n",
              "2  000113f07ec002fd   \n",
              "3  0001b41b1c6bb37e   \n",
              "4  0001d958c54c6e35   \n",
              "\n",
              "                                                                                                                                                                                                                                                                                                                                                                                                                                                                                                          comment_text  \\\n",
              "0                                                                                                                                                                                                                                            Explanation\\nWhy the edits made under my username Hardcore Metallica Fan were reverted? They weren't vandalisms, just closure on some GAs after I voted at New York Dolls FAC. And please don't remove the template from the talk page since I'm retired now.89.205.38.27   \n",
              "1                                                                                                                                                                                                                                                                                                                                                                                                     D'aww! He matches this background colour I'm seemingly stuck with. Thanks.  (talk) 21:51, January 11, 2016 (UTC)   \n",
              "2                                                                                                                                                                                                                                                                            Hey man, I'm really not trying to edit war. It's just that this guy is constantly removing relevant information and talking to me through edits instead of my talk page. He seems to care more about the formatting than the actual info.   \n",
              "3  \"\\nMore\\nI can't make any real suggestions on improvement - I wondered if the section statistics should be later on, or a subsection of \"\"types of accidents\"\"  -I think the references may need tidying so that they are all in the exact same format ie date format etc. I can do that later on, if no-one else does first - if you have any preferences for formatting style on references or want to do it yourself please let me know.\\n\\nThere appears to be a backlog on articles for review so I guess t...   \n",
              "4                                                                                                                                                                                                                                                                                                                                                                                                                                                  You, sir, are my hero. Any chance you remember what page that's on?   \n",
              "\n",
              "   toxic  severe_toxic  obscene  threat  insult  identity_hate  \n",
              "0      0             0        0       0       0              0  \n",
              "1      0             0        0       0       0              0  \n",
              "2      0             0        0       0       0              0  \n",
              "3      0             0        0       0       0              0  \n",
              "4      0             0        0       0       0              0  "
            ],
            "text/html": [
              "\n",
              "  <div id=\"df-5322e05f-37ec-4e86-8e23-81f9b7d174e5\">\n",
              "    <div class=\"colab-df-container\">\n",
              "      <div>\n",
              "<style scoped>\n",
              "    .dataframe tbody tr th:only-of-type {\n",
              "        vertical-align: middle;\n",
              "    }\n",
              "\n",
              "    .dataframe tbody tr th {\n",
              "        vertical-align: top;\n",
              "    }\n",
              "\n",
              "    .dataframe thead th {\n",
              "        text-align: right;\n",
              "    }\n",
              "</style>\n",
              "<table border=\"1\" class=\"dataframe\">\n",
              "  <thead>\n",
              "    <tr style=\"text-align: right;\">\n",
              "      <th></th>\n",
              "      <th>id</th>\n",
              "      <th>comment_text</th>\n",
              "      <th>toxic</th>\n",
              "      <th>severe_toxic</th>\n",
              "      <th>obscene</th>\n",
              "      <th>threat</th>\n",
              "      <th>insult</th>\n",
              "      <th>identity_hate</th>\n",
              "    </tr>\n",
              "  </thead>\n",
              "  <tbody>\n",
              "    <tr>\n",
              "      <th>0</th>\n",
              "      <td>0000997932d777bf</td>\n",
              "      <td>Explanation\\nWhy the edits made under my username Hardcore Metallica Fan were reverted? They weren't vandalisms, just closure on some GAs after I voted at New York Dolls FAC. And please don't remove the template from the talk page since I'm retired now.89.205.38.27</td>\n",
              "      <td>0</td>\n",
              "      <td>0</td>\n",
              "      <td>0</td>\n",
              "      <td>0</td>\n",
              "      <td>0</td>\n",
              "      <td>0</td>\n",
              "    </tr>\n",
              "    <tr>\n",
              "      <th>1</th>\n",
              "      <td>000103f0d9cfb60f</td>\n",
              "      <td>D'aww! He matches this background colour I'm seemingly stuck with. Thanks.  (talk) 21:51, January 11, 2016 (UTC)</td>\n",
              "      <td>0</td>\n",
              "      <td>0</td>\n",
              "      <td>0</td>\n",
              "      <td>0</td>\n",
              "      <td>0</td>\n",
              "      <td>0</td>\n",
              "    </tr>\n",
              "    <tr>\n",
              "      <th>2</th>\n",
              "      <td>000113f07ec002fd</td>\n",
              "      <td>Hey man, I'm really not trying to edit war. It's just that this guy is constantly removing relevant information and talking to me through edits instead of my talk page. He seems to care more about the formatting than the actual info.</td>\n",
              "      <td>0</td>\n",
              "      <td>0</td>\n",
              "      <td>0</td>\n",
              "      <td>0</td>\n",
              "      <td>0</td>\n",
              "      <td>0</td>\n",
              "    </tr>\n",
              "    <tr>\n",
              "      <th>3</th>\n",
              "      <td>0001b41b1c6bb37e</td>\n",
              "      <td>\"\\nMore\\nI can't make any real suggestions on improvement - I wondered if the section statistics should be later on, or a subsection of \"\"types of accidents\"\"  -I think the references may need tidying so that they are all in the exact same format ie date format etc. I can do that later on, if no-one else does first - if you have any preferences for formatting style on references or want to do it yourself please let me know.\\n\\nThere appears to be a backlog on articles for review so I guess t...</td>\n",
              "      <td>0</td>\n",
              "      <td>0</td>\n",
              "      <td>0</td>\n",
              "      <td>0</td>\n",
              "      <td>0</td>\n",
              "      <td>0</td>\n",
              "    </tr>\n",
              "    <tr>\n",
              "      <th>4</th>\n",
              "      <td>0001d958c54c6e35</td>\n",
              "      <td>You, sir, are my hero. Any chance you remember what page that's on?</td>\n",
              "      <td>0</td>\n",
              "      <td>0</td>\n",
              "      <td>0</td>\n",
              "      <td>0</td>\n",
              "      <td>0</td>\n",
              "      <td>0</td>\n",
              "    </tr>\n",
              "  </tbody>\n",
              "</table>\n",
              "</div>\n",
              "      <button class=\"colab-df-convert\" onclick=\"convertToInteractive('df-5322e05f-37ec-4e86-8e23-81f9b7d174e5')\"\n",
              "              title=\"Convert this dataframe to an interactive table.\"\n",
              "              style=\"display:none;\">\n",
              "        \n",
              "  <svg xmlns=\"http://www.w3.org/2000/svg\" height=\"24px\"viewBox=\"0 0 24 24\"\n",
              "       width=\"24px\">\n",
              "    <path d=\"M0 0h24v24H0V0z\" fill=\"none\"/>\n",
              "    <path d=\"M18.56 5.44l.94 2.06.94-2.06 2.06-.94-2.06-.94-.94-2.06-.94 2.06-2.06.94zm-11 1L8.5 8.5l.94-2.06 2.06-.94-2.06-.94L8.5 2.5l-.94 2.06-2.06.94zm10 10l.94 2.06.94-2.06 2.06-.94-2.06-.94-.94-2.06-.94 2.06-2.06.94z\"/><path d=\"M17.41 7.96l-1.37-1.37c-.4-.4-.92-.59-1.43-.59-.52 0-1.04.2-1.43.59L10.3 9.45l-7.72 7.72c-.78.78-.78 2.05 0 2.83L4 21.41c.39.39.9.59 1.41.59.51 0 1.02-.2 1.41-.59l7.78-7.78 2.81-2.81c.8-.78.8-2.07 0-2.86zM5.41 20L4 18.59l7.72-7.72 1.47 1.35L5.41 20z\"/>\n",
              "  </svg>\n",
              "      </button>\n",
              "      \n",
              "  <style>\n",
              "    .colab-df-container {\n",
              "      display:flex;\n",
              "      flex-wrap:wrap;\n",
              "      gap: 12px;\n",
              "    }\n",
              "\n",
              "    .colab-df-convert {\n",
              "      background-color: #E8F0FE;\n",
              "      border: none;\n",
              "      border-radius: 50%;\n",
              "      cursor: pointer;\n",
              "      display: none;\n",
              "      fill: #1967D2;\n",
              "      height: 32px;\n",
              "      padding: 0 0 0 0;\n",
              "      width: 32px;\n",
              "    }\n",
              "\n",
              "    .colab-df-convert:hover {\n",
              "      background-color: #E2EBFA;\n",
              "      box-shadow: 0px 1px 2px rgba(60, 64, 67, 0.3), 0px 1px 3px 1px rgba(60, 64, 67, 0.15);\n",
              "      fill: #174EA6;\n",
              "    }\n",
              "\n",
              "    [theme=dark] .colab-df-convert {\n",
              "      background-color: #3B4455;\n",
              "      fill: #D2E3FC;\n",
              "    }\n",
              "\n",
              "    [theme=dark] .colab-df-convert:hover {\n",
              "      background-color: #434B5C;\n",
              "      box-shadow: 0px 1px 3px 1px rgba(0, 0, 0, 0.15);\n",
              "      filter: drop-shadow(0px 1px 2px rgba(0, 0, 0, 0.3));\n",
              "      fill: #FFFFFF;\n",
              "    }\n",
              "  </style>\n",
              "\n",
              "      <script>\n",
              "        const buttonEl =\n",
              "          document.querySelector('#df-5322e05f-37ec-4e86-8e23-81f9b7d174e5 button.colab-df-convert');\n",
              "        buttonEl.style.display =\n",
              "          google.colab.kernel.accessAllowed ? 'block' : 'none';\n",
              "\n",
              "        async function convertToInteractive(key) {\n",
              "          const element = document.querySelector('#df-5322e05f-37ec-4e86-8e23-81f9b7d174e5');\n",
              "          const dataTable =\n",
              "            await google.colab.kernel.invokeFunction('convertToInteractive',\n",
              "                                                     [key], {});\n",
              "          if (!dataTable) return;\n",
              "\n",
              "          const docLinkHtml = 'Like what you see? Visit the ' +\n",
              "            '<a target=\"_blank\" href=https://colab.research.google.com/notebooks/data_table.ipynb>data table notebook</a>'\n",
              "            + ' to learn more about interactive tables.';\n",
              "          element.innerHTML = '';\n",
              "          dataTable['output_type'] = 'display_data';\n",
              "          await google.colab.output.renderOutput(dataTable, element);\n",
              "          const docLink = document.createElement('div');\n",
              "          docLink.innerHTML = docLinkHtml;\n",
              "          element.appendChild(docLink);\n",
              "        }\n",
              "      </script>\n",
              "    </div>\n",
              "  </div>\n",
              "  "
            ]
          },
          "metadata": {},
          "execution_count": 3
        }
      ]
    },
    {
      "cell_type": "markdown",
      "source": [
        "# First look"
      ],
      "metadata": {
        "id": "-kUWzBzISpsK"
      }
    },
    {
      "cell_type": "code",
      "source": [
        "fig = plt.figure()\n",
        "ax = fig.add_axes([0,0,1,1])\n",
        "types = ['Valide', 'Toxic', 'Severe Toxic','Obscene', 'Threat', 'Insult', 'Identity Hate']\n",
        "values = [\n",
        "          len(data[(data['toxic'] == 0) & (data['severe_toxic'] == 0) & (data['obscene'] == 0) & (data['threat'] == 0) & (data['insult'] == 0) & (data['identity_hate'] == 0)]),\n",
        "          data['toxic'].value_counts()[1],\n",
        "          data['severe_toxic'].value_counts()[1],\n",
        "          data['obscene'].value_counts()[1],\n",
        "          data['threat'].value_counts()[1],\n",
        "          data['insult'].value_counts()[1],\n",
        "          data['identity_hate'].value_counts()[1],\n",
        "          ]\n",
        "ax.bar(types,values)\n",
        "plt.show()"
      ],
      "metadata": {
        "colab": {
          "base_uri": "https://localhost:8080/",
          "height": 336
        },
        "id": "P-JWcLRLbomY",
        "outputId": "8ce8b238-e4b5-4d42-aaab-d0c101701552"
      },
      "execution_count": 4,
      "outputs": [
        {
          "output_type": "display_data",
          "data": {
            "text/plain": [
              "<Figure size 432x288 with 1 Axes>"
            ],
            "image/png": "[encoded data removed]"
          },
          "metadata": {
            "needs_background": "light"
          }
        }
      ]
    },
    {
      "cell_type": "code",
      "source": [
        "print(\"Number comments in dataframe : {}\".format(len(data.index)))"
      ],
      "metadata": {
        "colab": {
          "base_uri": "https://localhost:8080/"
        },
        "id": "JSa72t2UjhIS",
        "outputId": "a210d266-1125-4232-d4d7-ea3f1bfeb2fb"
      },
      "execution_count": 5,
      "outputs": [
        {
          "output_type": "stream",
          "name": "stdout",
          "text": [
            "Number comments in dataframe : 159571\n"
          ]
        }
      ]
    },
    {
      "cell_type": "markdown",
      "source": [
        "Compute max length of a comment:"
      ],
      "metadata": {
        "id": "uFz0j7G1hqS4"
      }
    },
    {
      "cell_type": "code",
      "source": [
        "max_length = max(len(comment.split()) for comment in data[\"comment_text\"])\n",
        "\n",
        "print(\"Max size comment : {}\".format(max_length))"
      ],
      "metadata": {
        "id": "1WMk85t8S_zX",
        "colab": {
          "base_uri": "https://localhost:8080/"
        },
        "outputId": "4b6ca02a-239d-4c86-a617-40afe79b2dbe"
      },
      "execution_count": 6,
      "outputs": [
        {
          "output_type": "stream",
          "name": "stdout",
          "text": [
            "Max size comment : 1411\n"
          ]
        }
      ]
    },
    {
      "cell_type": "markdown",
      "source": [
        "Average size of a comment:"
      ],
      "metadata": {
        "id": "X2nVOZMPiExh"
      }
    },
    {
      "cell_type": "code",
      "source": [
        "average_size = 0\n",
        "for line in data[\"comment_text\"]:\n",
        "  words = line.split()\n",
        "  average_size = average_size + len(words)\n",
        "average_size = average_size/len(data.index)\n",
        "\n",
        "print(\"Average size comment : {} \".format(average_size))"
      ],
      "metadata": {
        "colab": {
          "base_uri": "https://localhost:8080/"
        },
        "id": "gqaJOdnuiAW8",
        "outputId": "7a01a6f0-c0ff-487f-f869-a3c92ad1d49b"
      },
      "execution_count": 7,
      "outputs": [
        {
          "output_type": "stream",
          "name": "stdout",
          "text": [
            "Average size comment : 67.27352714465661 \n"
          ]
        }
      ]
    },
    {
      "cell_type": "markdown",
      "source": [
        "# 1 - First try with a simple ML to get first idea"
      ],
      "metadata": {
        "id": "bZIEMgH4nsTg"
      }
    },
    {
      "cell_type": "markdown",
      "source": [
        "# Preparation of the data"
      ],
      "metadata": {
        "id": "YIzpSrAjSsAM"
      }
    },
    {
      "cell_type": "code",
      "source": [
        "nltk.download('stopwords')\n",
        "nltk.download('punkt')\n",
        "stop_words = nltk.corpus.stopwords.words('english')\n",
        "corpus = []"
      ],
      "metadata": {
        "colab": {
          "base_uri": "https://localhost:8080/"
        },
        "id": "HXNStgw_R157",
        "outputId": "6caea4b0-f81c-473f-d7dd-82142c57958a"
      },
      "execution_count": 8,
      "outputs": [
        {
          "output_type": "stream",
          "name": "stdout",
          "text": [
            "[nltk_data] Downloading package stopwords to /root/nltk_data...\n",
            "[nltk_data]   Unzipping corpora/stopwords.zip.\n",
            "[nltk_data] Downloading package punkt to /root/nltk_data...\n",
            "[nltk_data]   Unzipping tokenizers/punkt.zip.\n"
          ]
        }
      ]
    },
    {
      "cell_type": "code",
      "source": [
        "df_idf = data.copy()"
      ],
      "metadata": {
        "id": "DZq3D6h4kJ_k"
      },
      "execution_count": 9,
      "outputs": []
    },
    {
      "cell_type": "markdown",
      "source": [
        "Clean up tweets: contractions are separated, special characters are removed, as well as URLs, mentions, short words and empty words."
      ],
      "metadata": {
        "id": "Mx4aWTlKTtSC"
      }
    },
    {
      "cell_type": "code",
      "source": [
        "def clean(sentence): \n",
        "            \n",
        "    # Contractions\n",
        "    sentence = re.sub(r\"he's\", \"he is\", sentence)\n",
        "    sentence = re.sub(r\"there's\", \"there is\", sentence)\n",
        "    sentence = re.sub(r\"We're\", \"We are\", sentence)\n",
        "    sentence = re.sub(r\"That's\", \"That is\", sentence)\n",
        "    sentence = re.sub(r\"won't\", \"will not\", sentence)\n",
        "    sentence = re.sub(r\"they're\", \"they are\", sentence)\n",
        "    sentence = re.sub(r\"Can't\", \"Cannot\", sentence)\n",
        "    sentence = re.sub(r\"wasn't\", \"was not\", sentence)\n",
        "    sentence = re.sub(r\"don\\x89Ûªt\", \"do not\", sentence)\n",
        "    sentence = re.sub(r\"aren't\", \"are not\", sentence)\n",
        "    sentence = re.sub(r\"isn't\", \"is not\", sentence)\n",
        "    sentence = re.sub(r\"What's\", \"What is\", sentence)\n",
        "    sentence = re.sub(r\"haven't\", \"have not\", sentence)\n",
        "    sentence = re.sub(r\"hasn't\", \"has not\", sentence)\n",
        "    sentence = re.sub(r\"There's\", \"There is\", sentence)\n",
        "    sentence = re.sub(r\"He's\", \"He is\", sentence)\n",
        "    sentence = re.sub(r\"It's\", \"It is\", sentence)\n",
        "    sentence = re.sub(r\"You're\", \"You are\", sentence)\n",
        "    sentence = re.sub(r\"I'M\", \"I am\", sentence)\n",
        "    sentence = re.sub(r\"shouldn't\", \"should not\", sentence)\n",
        "    sentence = re.sub(r\"wouldn't\", \"would not\", sentence)\n",
        "    sentence = re.sub(r\"i'm\", \"I am\", sentence)\n",
        "    sentence = re.sub(r\"I\\x89Ûªm\", \"I am\", sentence)\n",
        "    sentence = re.sub(r\"I'm\", \"I am\", sentence)\n",
        "    sentence = re.sub(r\"Isn't\", \"is not\", sentence)\n",
        "    sentence = re.sub(r\"Here's\", \"Here is\", sentence)\n",
        "    sentence = re.sub(r\"you've\", \"you have\", sentence)\n",
        "    sentence = re.sub(r\"you\\x89Ûªve\", \"you have\", sentence)\n",
        "    sentence = re.sub(r\"we're\", \"we are\", sentence)\n",
        "    sentence = re.sub(r\"what's\", \"what is\", sentence)\n",
        "    sentence = re.sub(r\"couldn't\", \"could not\", sentence)\n",
        "    sentence = re.sub(r\"we've\", \"we have\", sentence)\n",
        "    sentence = re.sub(r\"it\\x89Ûªs\", \"it is\", sentence)\n",
        "    sentence = re.sub(r\"doesn\\x89Ûªt\", \"does not\", sentence)\n",
        "    sentence = re.sub(r\"It\\x89Ûªs\", \"It is\", sentence)\n",
        "    sentence = re.sub(r\"Here\\x89Ûªs\", \"Here is\", sentence)\n",
        "    sentence = re.sub(r\"who's\", \"who is\", sentence)\n",
        "    sentence = re.sub(r\"I\\x89Ûªve\", \"I have\", sentence)\n",
        "    sentence = re.sub(r\"y'all\", \"you all\", sentence)\n",
        "    sentence = re.sub(r\"can\\x89Ûªt\", \"cannot\", sentence)\n",
        "    sentence = re.sub(r\"would've\", \"would have\", sentence)\n",
        "    sentence = re.sub(r\"it'll\", \"it will\", sentence)\n",
        "    sentence = re.sub(r\"we'll\", \"we will\", sentence)\n",
        "    sentence = re.sub(r\"wouldn\\x89Ûªt\", \"would not\", sentence)\n",
        "    sentence = re.sub(r\"We've\", \"We have\", sentence)\n",
        "    sentence = re.sub(r\"he'll\", \"he will\", sentence)\n",
        "    sentence = re.sub(r\"Y'all\", \"You all\", sentence)\n",
        "    sentence = re.sub(r\"Weren't\", \"Were not\", sentence)\n",
        "    sentence = re.sub(r\"Didn't\", \"Did not\", sentence)\n",
        "    sentence = re.sub(r\"they'll\", \"they will\", sentence)\n",
        "    sentence = re.sub(r\"they'd\", \"they would\", sentence)\n",
        "    sentence = re.sub(r\"DON'T\", \"DO NOT\", sentence)\n",
        "    sentence = re.sub(r\"That\\x89Ûªs\", \"That is\", sentence)\n",
        "    sentence = re.sub(r\"they've\", \"they have\", sentence)\n",
        "    sentence = re.sub(r\"i'd\", \"I would\", sentence)\n",
        "    sentence = re.sub(r\"should've\", \"should have\", sentence)\n",
        "    sentence = re.sub(r\"You\\x89Ûªre\", \"You are\", sentence)\n",
        "    sentence = re.sub(r\"where's\", \"where is\", sentence)\n",
        "    sentence = re.sub(r\"Don\\x89Ûªt\", \"Do not\", sentence)\n",
        "    sentence = re.sub(r\"we'd\", \"we would\", sentence)\n",
        "    sentence = re.sub(r\"i'll\", \"I will\", sentence)\n",
        "    sentence = re.sub(r\"weren't\", \"were not\", sentence)\n",
        "    sentence = re.sub(r\"They're\", \"They are\", sentence)\n",
        "    sentence = re.sub(r\"Can\\x89Ûªt\", \"Cannot\", sentence)\n",
        "    sentence = re.sub(r\"you\\x89Ûªll\", \"you will\", sentence)\n",
        "    sentence = re.sub(r\"I\\x89Ûªd\", \"I would\", sentence)\n",
        "    sentence = re.sub(r\"let's\", \"let us\", sentence)\n",
        "    sentence = re.sub(r\"it's\", \"it is\", sentence)\n",
        "    sentence = re.sub(r\"can't\", \"cannot\", sentence)\n",
        "    sentence = re.sub(r\"don't\", \"do not\", sentence)\n",
        "    sentence = re.sub(r\"you're\", \"you are\", sentence)\n",
        "    sentence = re.sub(r\"i've\", \"I have\", sentence)\n",
        "    sentence = re.sub(r\"that's\", \"that is\", sentence)\n",
        "    sentence = re.sub(r\"i'll\", \"I will\", sentence)\n",
        "    sentence = re.sub(r\"doesn't\", \"does not\", sentence)\n",
        "    sentence = re.sub(r\"i'd\", \"I would\", sentence)\n",
        "    sentence = re.sub(r\"didn't\", \"did not\", sentence)\n",
        "    sentence = re.sub(r\"ain't\", \"am not\", sentence)\n",
        "    sentence = re.sub(r\"you'll\", \"you will\", sentence)\n",
        "    sentence = re.sub(r\"I've\", \"I have\", sentence)\n",
        "    sentence = re.sub(r\"Don't\", \"do not\", sentence)\n",
        "    sentence = re.sub(r\"I'll\", \"I will\", sentence)\n",
        "    sentence = re.sub(r\"I'd\", \"I would\", sentence)\n",
        "    sentence = re.sub(r\"Let's\", \"Let us\", sentence)\n",
        "    sentence = re.sub(r\"you'd\", \"You would\", sentence)\n",
        "    sentence = re.sub(r\"It's\", \"It is\", sentence)\n",
        "    sentence = re.sub(r\"Ain't\", \"am not\", sentence)\n",
        "    sentence = re.sub(r\"Haven't\", \"Have not\", sentence)\n",
        "    sentence = re.sub(r\"Could've\", \"Could have\", sentence)\n",
        "    sentence = re.sub(r\"youve\", \"you have\", sentence)  \n",
        "    sentence = re.sub(r\"donå«t\", \"do not\", sentence)  \n",
        "    sentence = re.sub(r\"some1\", \"someone\", sentence)\n",
        "    sentence = re.sub(r\"yrs\", \"years\", sentence)\n",
        "    sentence = re.sub(r\"hrs\", \"hours\", sentence)\n",
        "    sentence = re.sub(r\"2morow|2moro\", \"tomorrow\", sentence)\n",
        "    sentence = re.sub(r\"2day\", \"today\", sentence)\n",
        "    sentence = re.sub(r\"4got|4gotten\", \"forget\", sentence)\n",
        "    sentence = re.sub(r\"b-day|bday\", \"b-day\", sentence)\n",
        "    sentence = re.sub(r\"mother's\", \"mother\", sentence)\n",
        "    sentence = re.sub(r\"mom's\", \"mom\", sentence)\n",
        "    sentence = re.sub(r\"dad's\", \"dad\", sentence)\n",
        "    sentence = re.sub(r\"hahah|hahaha|hahahaha\", \"haha\", sentence)\n",
        "    sentence = re.sub(r\"lmao|lolz|rofl\", \"lol\", sentence)\n",
        "    sentence = re.sub(r\"thanx|thnx\", \"thanks\", sentence)\n",
        "    sentence = re.sub(r\"goood\", \"good\", sentence)\n",
        "    sentence = re.sub(r\"some1\", \"someone\", sentence)\n",
        "    sentence = re.sub(r\"some1\", \"someone\", sentence)\n",
        "    # Character entity references\n",
        "    sentence = re.sub(r\"&gt;\", \">\", sentence)\n",
        "    sentence = re.sub(r\"&lt;\", \"<\", sentence)\n",
        "    sentence = re.sub(r\"&amp;\", \"&\", sentence)\n",
        "    # Typos, slang and informal abbreviations\n",
        "    sentence = re.sub(r\"w/e\", \"whatever\", sentence)\n",
        "    sentence = re.sub(r\"w/\", \"with\", sentence)\n",
        "    sentence = re.sub(r\"<3\", \"love\", sentence)\n",
        "    # Urls\n",
        "    sentence = re.sub(r\"http\\S+\", \"\", sentence)\n",
        "    # Numbers\n",
        "    sentence = re.sub(r'[0-9]', '', sentence)\n",
        "    # Eliminating the mentions\n",
        "    sentence = re.sub(\"(@[A-Za-z0-9_]+)\",\"\", sentence)\n",
        "    # Remove punctuation and special chars (keep '!')\n",
        "    for p in string.punctuation.replace('!', ''):\n",
        "        sentence = sentence.replace(p, '')\n",
        "        \n",
        "    # ... and ..\n",
        "    sentence = sentence.replace('...', ' ... ')\n",
        "    if '...' not in sentence:\n",
        "        sentence = sentence.replace('..', ' ... ')\n",
        "        \n",
        "    # Tokenize\n",
        "    sentence_words = word_tokenize(sentence)\n",
        "    \n",
        "    # Eliminating the word if its length is less than 3\n",
        "    sentence = [w for w in sentence_words if len(w)>2]\n",
        "    \n",
        "    # remove stopwords\n",
        "    sentence = [w.lower() for w in sentence if not w in stop_words]  \n",
        "    \n",
        "    corpus.append(sentence)\n",
        "    \n",
        "    # join back\n",
        "    sentence = ' '.join(sentence)\n",
        "        \n",
        "        \n",
        "    return sentence"
      ],
      "metadata": {
        "id": "GoEYmwViTW_G"
      },
      "execution_count": 10,
      "outputs": []
    },
    {
      "cell_type": "markdown",
      "source": [
        "Abbreviations will be replaced by their full equivalent using this abbreviation dictionary and the associated convert_abbrev_in_text function"
      ],
      "metadata": {
        "id": "cmWpF3CFTxtB"
      }
    },
    {
      "cell_type": "code",
      "source": [
        "variable_name = \"\"\n",
        "abbreviations = {\n",
        "    \"$\" : \" dollar \",\n",
        "    \"€\" : \" euro \",\n",
        "    \"4ao\" : \"for adults only\",\n",
        "    \"a.m\" : \"before midday\",\n",
        "    \"a3\" : \"anytime anywhere anyplace\",\n",
        "    \"aamof\" : \"as a matter of fact\",\n",
        "    \"acct\" : \"account\",\n",
        "    \"adih\" : \"another day in hell\",\n",
        "    \"afaic\" : \"as far as i am concerned\",\n",
        "    \"afaict\" : \"as far as i can tell\",\n",
        "    \"afaik\" : \"as far as i know\",\n",
        "    \"afair\" : \"as far as i remember\",\n",
        "    \"afk\" : \"away from keyboard\",\n",
        "    \"app\" : \"application\",\n",
        "    \"approx\" : \"approximately\",\n",
        "    \"apps\" : \"applications\",\n",
        "    \"asap\" : \"as soon as possible\",\n",
        "    \"asl\" : \"age, sex, location\",\n",
        "    \"atk\" : \"at the keyboard\",\n",
        "    \"ave.\" : \"avenue\",\n",
        "    \"aymm\" : \"are you my mother\",\n",
        "    \"ayor\" : \"at your own risk\", \n",
        "    \"b&b\" : \"bed and breakfast\",\n",
        "    \"b+b\" : \"bed and breakfast\",\n",
        "    \"b.c\" : \"before christ\",\n",
        "    \"b2b\" : \"business to business\",\n",
        "    \"b2c\" : \"business to customer\",\n",
        "    \"b4\" : \"before\",\n",
        "    \"b4n\" : \"bye for now\",\n",
        "    \"b@u\" : \"back at you\",\n",
        "    \"bae\" : \"before anyone else\",\n",
        "    \"bak\" : \"back at keyboard\",\n",
        "    \"bbbg\" : \"bye bye be good\",\n",
        "    \"bbc\" : \"british broadcasting corporation\",\n",
        "    \"bbias\" : \"be back in a second\",\n",
        "    \"bbl\" : \"be back later\",\n",
        "    \"bbs\" : \"be back soon\",\n",
        "    \"be4\" : \"before\",\n",
        "    \"bfn\" : \"bye for now\",\n",
        "    \"blvd\" : \"boulevard\",\n",
        "    \"bout\" : \"about\",\n",
        "    \"brb\" : \"be right back\",\n",
        "    \"bros\" : \"brothers\",\n",
        "    \"brt\" : \"be right there\",\n",
        "    \"bsaaw\" : \"big smile and a wink\",\n",
        "    \"btw\" : \"by the way\",\n",
        "    \"bwl\" : \"bursting with laughter\",\n",
        "    \"c/o\" : \"care of\",\n",
        "    \"cet\" : \"central european time\",\n",
        "    \"cf\" : \"compare\",\n",
        "    \"cia\" : \"central intelligence agency\",\n",
        "    \"csl\" : \"can not stop laughing\",\n",
        "    \"cu\" : \"see you\",\n",
        "    \"cul8r\" : \"see you later\",\n",
        "    \"cv\" : \"curriculum vitae\",\n",
        "    \"cwot\" : \"complete waste of time\",\n",
        "    \"cya\" : \"see you\",\n",
        "    \"cyt\" : \"see you tomorrow\",\n",
        "    \"dae\" : \"does anyone else\",\n",
        "    \"dbmib\" : \"do not bother me i am busy\",\n",
        "    \"diy\" : \"do it yourself\",\n",
        "    \"dm\" : \"direct message\",\n",
        "    \"dwh\" : \"during work hours\",\n",
        "    \"e123\" : \"easy as one two three\",\n",
        "    \"eet\" : \"eastern european time\",\n",
        "    \"eg\" : \"example\",\n",
        "    \"embm\" : \"early morning business meeting\",\n",
        "    \"encl\" : \"enclosed\",\n",
        "    \"encl.\" : \"enclosed\",\n",
        "    \"etc\" : \"and so on\",\n",
        "    \"faq\" : \"frequently asked questions\",\n",
        "    \"fawc\" : \"for anyone who cares\",\n",
        "    \"fb\" : \"facebook\",\n",
        "    \"fc\" : \"fingers crossed\",\n",
        "    \"fig\" : \"figure\",\n",
        "    \"fimh\" : \"forever in my heart\", \n",
        "    \"ft.\" : \"feet\",\n",
        "    \"ft\" : \"featuring\",\n",
        "    \"ftl\" : \"for the loss\",\n",
        "    \"ftw\" : \"for the win\",\n",
        "    \"fwiw\" : \"for what it is worth\",\n",
        "    \"fyi\" : \"for your information\",\n",
        "    \"g9\" : \"genius\",\n",
        "    \"gahoy\" : \"get a hold of yourself\",\n",
        "    \"gal\" : \"get a life\",\n",
        "    \"gcse\" : \"general certificate of secondary education\",\n",
        "    \"gfn\" : \"gone for now\",\n",
        "    \"gg\" : \"good game\",\n",
        "    \"gl\" : \"good luck\",\n",
        "    \"glhf\" : \"good luck have fun\",\n",
        "    \"gmt\" : \"greenwich mean time\",\n",
        "    \"gmta\" : \"great minds think alike\",\n",
        "    \"gn\" : \"good night\",\n",
        "    \"g.o.a.t\" : \"greatest of all time\",\n",
        "    \"goat\" : \"greatest of all time\",\n",
        "    \"goi\" : \"get over it\",\n",
        "    \"gps\" : \"global positioning system\",\n",
        "    \"gr8\" : \"great\",\n",
        "    \"gratz\" : \"congratulations\",\n",
        "    \"gyal\" : \"girl\",\n",
        "    \"h&c\" : \"hot and cold\",\n",
        "    \"hp\" : \"horsepower\",\n",
        "    \"hr\" : \"hour\",\n",
        "    \"hrh\" : \"his royal highness\",\n",
        "    \"ht\" : \"height\",\n",
        "    \"ibrb\" : \"i will be right back\",\n",
        "    \"ic\" : \"i see\",\n",
        "    \"icq\" : \"i seek you\",\n",
        "    \"icymi\" : \"in case you missed it\",\n",
        "    \"idc\" : \"i do not care\",\n",
        "    \"idgadf\" : \"i do not give a damn fuck\",\n",
        "    \"idgaf\" : \"i do not give a fuck\",\n",
        "    \"idk\" : \"i do not know\",\n",
        "    \"ie\" : \"that is\",\n",
        "    \"i.e\" : \"that is\",\n",
        "    \"ifyp\" : \"i feel your pain\",\n",
        "    \"IG\" : \"instagram\",\n",
        "    \"iirc\" : \"if i remember correctly\",\n",
        "    \"ilu\" : \"i love you\",\n",
        "    \"ily\" : \"i love you\",\n",
        "    \"imho\" : \"in my humble opinion\",\n",
        "    \"imo\" : \"in my opinion\",\n",
        "    \"imu\" : \"i miss you\",\n",
        "    \"iow\" : \"in other words\",\n",
        "    \"irl\" : \"in real life\",\n",
        "    \"j4f\" : \"just for fun\",\n",
        "    \"jic\" : \"just in case\",\n",
        "    \"jk\" : \"just kidding\",\n",
        "    \"jsyk\" : \"just so you know\",\n",
        "    \"l8r\" : \"later\",\n",
        "    \"lb\" : \"pound\",\n",
        "    \"lbs\" : \"pounds\",\n",
        "    \"ldr\" : \"long distance relationship\",\n",
        "    \"lmao\" : \"laugh my ass off\",\n",
        "    \"lmfao\" : \"laugh my fucking ass off\",\n",
        "    \"lol\" : \"laughing out loud\",\n",
        "    \"ltd\" : \"limited\",\n",
        "    \"ltns\" : \"long time no see\",\n",
        "    \"m8\" : \"mate\",\n",
        "    \"mf\" : \"motherfucker\",\n",
        "    \"mfs\" : \"motherfuckers\",\n",
        "    \"mfw\" : \"my face when\",\n",
        "    \"mofo\" : \"motherfucker\",\n",
        "    \"mph\" : \"miles per hour\",\n",
        "    \"mr\" : \"mister\",\n",
        "    \"mrw\" : \"my reaction when\",\n",
        "    \"ms\" : \"miss\",\n",
        "    \"mte\" : \"my thoughts exactly\",\n",
        "    \"nagi\" : \"not a good idea\",\n",
        "    \"nbc\" : \"national broadcasting company\",\n",
        "    \"nbd\" : \"not big deal\",\n",
        "    \"nfs\" : \"not for sale\",\n",
        "    \"ngl\" : \"not going to lie\",\n",
        "    \"nhs\" : \"national health service\",\n",
        "    \"nrn\" : \"no reply necessary\",\n",
        "    \"nsfl\" : \"not safe for life\",\n",
        "    \"nsfw\" : \"not safe for work\",\n",
        "    \"nth\" : \"nice to have\",\n",
        "    \"nvr\" : \"never\",\n",
        "    \"nyc\" : \"new york city\",\n",
        "    \"oc\" : \"original content\",\n",
        "    \"og\" : \"original\",\n",
        "    \"ohp\" : \"overhead projector\",\n",
        "    \"oic\" : \"oh i see\",\n",
        "    \"omdb\" : \"over my dead body\",\n",
        "    \"omg\" : \"oh my god\",\n",
        "    \"omw\" : \"on my way\",\n",
        "    \"p.a\" : \"per annum\",\n",
        "    \"p.m\" : \"after midday\",\n",
        "    \"pm\" : \"prime minister\",\n",
        "    \"poc\" : \"people of color\",\n",
        "    \"pov\" : \"point of view\",\n",
        "    \"pp\" : \"pages\",\n",
        "    \"ppl\" : \"people\",\n",
        "    \"prw\" : \"parents are watching\",\n",
        "    \"ps\" : \"postscript\",\n",
        "    \"pt\" : \"point\",\n",
        "    \"ptb\" : \"please text back\",\n",
        "    \"pto\" : \"please turn over\",\n",
        "    \"qpsa\" : \"what happens\", \n",
        "    \"ratchet\" : \"rude\",\n",
        "    \"rbtl\" : \"read between the lines\",\n",
        "    \"rlrt\" : \"real life retweet\", \n",
        "    \"rofl\" : \"rolling on the floor laughing\",\n",
        "    \"roflol\" : \"rolling on the floor laughing out loud\",\n",
        "    \"rotflmao\" : \"rolling on the floor laughing my ass off\",\n",
        "    \"rt\" : \"retweet\",\n",
        "    \"ruok\" : \"are you ok\",\n",
        "    \"sfw\" : \"safe for work\",\n",
        "     \"sk8\" : \"skate\",\n",
        "    \"smh\" : \"shake my head\",\n",
        "    \"sq\" : \"square\",\n",
        "    \"srsly\" : \"seriously\", \n",
        "    \"ssdd\" : \"same stuff different day\",\n",
        "    \"tbh\" : \"to be honest\",\n",
        "    \"tbs\" : \"tablespooful\",\n",
        "    \"tbsp\" : \"tablespooful\",\n",
        "    \"tfw\" : \"that feeling when\",\n",
        "    \"thks\" : \"thank you\",\n",
        "    \"tho\" : \"though\",\n",
        "    \"thx\" : \"thank you\",\n",
        "    \"tia\" : \"thanks in advance\",\n",
        "    \"til\" : \"today i learned\",\n",
        "    \"tl;dr\" : \"too long i did not read\",\n",
        "    \"tldr\" : \"too long i did not read\",\n",
        "    \"tmb\" : \"tweet me back\",\n",
        "    \"tntl\" : \"trying not to laugh\",\n",
        "    \"ttyl\" : \"talk to you later\",\n",
        "    \"u\" : \"you\",\n",
        "    \"u2\" : \"you too\",\n",
        "    \"u4e\" : \"yours for ever\",\n",
        "    \"utc\" : \"coordinated universal time\",\n",
        "    \"w/\" : \"with\",\n",
        "    \"w/o\" : \"without\",\n",
        "    \"w8\" : \"wait\",\n",
        "    \"wassup\" : \"what is up\",\n",
        "    \"wb\" : \"welcome back\",\n",
        "    \"wtf\" : \"what the fuck\",\n",
        "    \"wtg\" : \"way to go\",\n",
        "    \"wtpa\" : \"where the party at\",\n",
        "    \"wuf\" : \"where are you from\",\n",
        "    \"wuzup\" : \"what is up\",\n",
        "    \"wywh\" : \"wish you were here\",\n",
        "    \"yd\" : \"yard\",\n",
        "    \"ygtr\" : \"you got that right\",\n",
        "    \"ynk\" : \"you never know\",\n",
        "    \"zzz\" : \"sleeping bored and tired\"\n",
        "}\n",
        "\n",
        "def convert_abbrev_in_text(sentence):\n",
        "    t=[]\n",
        "    words=sentence.split()\n",
        "    t = [abbreviations[w.lower()] if w.lower() in abbreviations.keys() else w for w in words]\n",
        "    return ' '.join(t) "
      ],
      "metadata": {
        "id": "7nzuoMM4T6TB"
      },
      "execution_count": 11,
      "outputs": []
    },
    {
      "cell_type": "markdown",
      "source": [
        "The following function performs the two functions defined above on a given sentence."
      ],
      "metadata": {
        "id": "agJ3YqL9UD8D"
      }
    },
    {
      "cell_type": "code",
      "source": [
        "def prepare_string(sentence):\n",
        "  sentence = clean(sentence)\n",
        "  sentence = convert_abbrev_in_text(sentence)\n",
        "  return sentence"
      ],
      "metadata": {
        "id": "NMz-8t7iUEMZ"
      },
      "execution_count": 12,
      "outputs": []
    },
    {
      "cell_type": "markdown",
      "source": [
        "Now we can create the tf_idf"
      ],
      "metadata": {
        "id": "ixWQM28yZgUs"
      }
    },
    {
      "cell_type": "code",
      "source": [
        "%%time\n",
        "# Apply prepare_string to all rows in 'tweets' column\n",
        "df_idf['comment_text'] = df_idf['comment_text'].apply(lambda s : prepare_string(s))\n",
        "\n",
        "# Drop empty values from dataframe\n",
        "df_idf['comment_text'].replace('', np.nan, inplace=True)\n",
        "df_idf.dropna(subset=['comment_text'], inplace=True)\n",
        "\n",
        "df_idf.head(5)"
      ],
      "metadata": {
        "colab": {
          "base_uri": "https://localhost:8080/"
        },
        "id": "1OuWtnixUQXG",
        "outputId": "798599d3-8417-4287-f7a4-63049abd2eb2"
      },
      "execution_count": 13,
      "outputs": [
        {
          "output_type": "stream",
          "name": "stdout",
          "text": [
            "CPU times: user 1min 52s, sys: 833 ms, total: 1min 53s\n",
            "Wall time: 1min 54s\n"
          ]
        }
      ]
    },
    {
      "cell_type": "markdown",
      "source": [
        "# Random Forest"
      ],
      "metadata": {
        "id": "bRdHOGcJb9om"
      }
    },
    {
      "cell_type": "markdown",
      "source": [
        "Create sample of features and insights."
      ],
      "metadata": {
        "id": "4ohSwZf5dvn0"
      }
    },
    {
      "cell_type": "code",
      "source": [
        "tfIdfVectorizer = TfidfVectorizer()\n",
        "\n",
        "corpus_size = 10000 # Using all the data exceeds the RAM capacity of the Notebook\n",
        "df_idf_sample = df_idf.sample(n=corpus_size, random_state=1)\n",
        "\n",
        "X = tfIdfVectorizer.fit_transform(df_idf_sample['comment_text']).toarray()\n",
        "y = df_idf_sample.drop(['id','comment_text'], axis=1).to_numpy()\n",
        "\n",
        "X_train, X_test, y_train, y_test = train_test_split(X, y, test_size=.025, random_state=0)\n",
        "\n",
        "del X, y"
      ],
      "metadata": {
        "id": "fSbMkRC2Z4wH"
      },
      "execution_count": 14,
      "outputs": []
    },
    {
      "cell_type": "markdown",
      "source": [
        "Create random forest"
      ],
      "metadata": {
        "id": "0BmzbRKfefcj"
      }
    },
    {
      "cell_type": "code",
      "source": [
        "# Use only 15 estimator to save your ram\n",
        "text_classifier = RandomForestClassifier(n_estimators=15, random_state=1)  \n",
        "text_classifier.fit(X_train, y_train )"
      ],
      "metadata": {
        "id": "DzLSiV1kdZDY",
        "colab": {
          "base_uri": "https://localhost:8080/"
        },
        "outputId": "cdac08d9-0f3a-47b2-d3a3-bde8c4935baf"
      },
      "execution_count": 15,
      "outputs": [
        {
          "output_type": "execute_result",
          "data": {
            "text/plain": [
              "RandomForestClassifier(n_estimators=15, random_state=1)"
            ]
          },
          "metadata": {},
          "execution_count": 15
        }
      ]
    },
    {
      "cell_type": "markdown",
      "source": [
        "Testing the model"
      ],
      "metadata": {
        "id": "J_ExR7irt87N"
      }
    },
    {
      "cell_type": "code",
      "source": [
        "print(\"Model score : {} \".format(text_classifier.score(X_test, y_test)))"
      ],
      "metadata": {
        "colab": {
          "base_uri": "https://localhost:8080/"
        },
        "id": "k92aCJUCuMUT",
        "outputId": "1a62cd72-9a4d-42ff-dff1-96a2cb10ddc6"
      },
      "execution_count": 16,
      "outputs": [
        {
          "output_type": "stream",
          "name": "stdout",
          "text": [
            "Model score : 0.916 \n"
          ]
        }
      ]
    },
    {
      "cell_type": "markdown",
      "source": [
        "As noted above, many of the data are neutral sentences and therefore the accuracy is not necessarily representative. We therefore make other measurements."
      ],
      "metadata": {
        "id": "6dPfY9wBy7Ei"
      }
    },
    {
      "cell_type": "code",
      "source": [
        "def compareColumnPredictTarget(column, X, Y):\n",
        "  error = 0\n",
        "  success = 0\n",
        "  false_pos = 0\n",
        "  false_neg = 0\n",
        "  for i in range(len(X)):\n",
        "    if X[i][column] != Y[i][column]:\n",
        "      error = error + 1\n",
        "      if(X[i][column] == 1 and Y[i][column] == 0):\n",
        "        false_pos = false_pos + 1\n",
        "      else:\n",
        "        false_neg = false_neg + 1\n",
        "    elif X[i][column] == 1 and Y[i][column] == 1:\n",
        "      success = success + 1\n",
        "  return error, success, false_pos, false_neg"
      ],
      "metadata": {
        "id": "MQiH4recBN84"
      },
      "execution_count": 17,
      "outputs": []
    },
    {
      "cell_type": "code",
      "source": [
        "Y_test = text_classifier.predict(X_test)\n",
        "\n",
        "labels = ['toxic', 'severe_toxic', 'obscene', 'threat', 'insult', 'identity_hate']\n",
        "for i in range(len(labels)):\n",
        "  error, success, false_pos, false_neg = compareColumnPredictTarget(i,Y_test,y_test)\n",
        "  print(\"For label : {0} we have {1} success and {2} errors ({3} false positive and {4} false negative).\".format(labels[i], success, error, false_pos, false_neg))"
      ],
      "metadata": {
        "colab": {
          "base_uri": "https://localhost:8080/"
        },
        "id": "jMhTgd5sB0yA",
        "outputId": "ad308aaa-77b3-4e55-c65c-5f82a9e1bb89"
      },
      "execution_count": 18,
      "outputs": [
        {
          "output_type": "stream",
          "name": "stdout",
          "text": [
            "For label : toxic we have 20 success and 8 errors (0 false positive and 8 false negative).\n",
            "For label : severe_toxic we have 2 success and 3 errors (0 false positive and 3 false negative).\n",
            "For label : obscene we have 11 success and 5 errors (1 false positive and 4 false negative).\n",
            "For label : threat we have 0 success and 2 errors (0 false positive and 2 false negative).\n",
            "For label : insult we have 9 success and 8 errors (0 false positive and 8 false negative).\n",
            "For label : identity_hate we have 0 success and 5 errors (0 false positive and 5 false negative).\n"
          ]
        }
      ]
    },
    {
      "cell_type": "markdown",
      "source": [
        "As we can see, the labels are in fact wrong more often than they appear at first sight. The high accuracy rate is in fact only due to the fact that most of the data are non-offensive sentences and the model predicts them correctly, but rarely the others.<br>\n",
        "We can therefore try to give more weight to the underrepresented data to improve the model as most of the errors are false negatives."
      ],
      "metadata": {
        "id": "Y0S_6xyhEVbb"
      }
    },
    {
      "cell_type": "code",
      "source": [
        "text_classifier_weight = RandomForestClassifier(n_estimators=50, random_state=1, class_weight='balanced_subsample')  \n",
        "text_classifier_weight.fit(X_train, y_train )"
      ],
      "metadata": {
        "colab": {
          "base_uri": "https://localhost:8080/"
        },
        "id": "0lP3YVOxHQ7p",
        "outputId": "f39ce411-933b-454b-d792-748e629ab7a6"
      },
      "execution_count": 19,
      "outputs": [
        {
          "output_type": "execute_result",
          "data": {
            "text/plain": [
              "RandomForestClassifier(class_weight='balanced_subsample', n_estimators=50,\n",
              "                       random_state=1)"
            ]
          },
          "metadata": {},
          "execution_count": 19
        }
      ]
    },
    {
      "cell_type": "code",
      "source": [
        "print(\"Model score : {} \".format(text_classifier_weight.score(X_test, y_test)))"
      ],
      "metadata": {
        "colab": {
          "base_uri": "https://localhost:8080/"
        },
        "id": "kEyHzDM8HZ3S",
        "outputId": "8a1a4328-eb8d-40e2-8e4e-3af3631f38c8"
      },
      "execution_count": 20,
      "outputs": [
        {
          "output_type": "stream",
          "name": "stdout",
          "text": [
            "Model score : 0.892 \n"
          ]
        }
      ]
    },
    {
      "cell_type": "code",
      "source": [
        "Y_test = text_classifier_weight.predict(X_test)\n",
        "\n",
        "labels = ['toxic', 'severe_toxic', 'obscene', 'threat', 'insult', 'identity_hate']\n",
        "for i in range(len(labels)):\n",
        "  error, success, false_pos, false_neg = compareColumnPredictTarget(i,Y_test,y_test)\n",
        "  print(\"For label : {0} we have {1} success and {2} errors ({3} false positive and {4} false negative).\".format(labels[i], success, error, false_pos, false_neg))"
      ],
      "metadata": {
        "colab": {
          "base_uri": "https://localhost:8080/"
        },
        "id": "Yw50Ba7QHtLE",
        "outputId": "2696b896-6d38-4719-e301-9fb3d97f7142"
      },
      "execution_count": 21,
      "outputs": [
        {
          "output_type": "stream",
          "name": "stdout",
          "text": [
            "For label : toxic we have 9 success and 19 errors (0 false positive and 19 false negative).\n",
            "For label : severe_toxic we have 0 success and 5 errors (0 false positive and 5 false negative).\n",
            "For label : obscene we have 7 success and 8 errors (0 false positive and 8 false negative).\n",
            "For label : threat we have 0 success and 2 errors (0 false positive and 2 false negative).\n",
            "For label : insult we have 6 success and 11 errors (0 false positive and 11 false negative).\n",
            "For label : identity_hate we have 0 success and 5 errors (0 false positive and 5 false negative).\n"
          ]
        }
      ]
    },
    {
      "cell_type": "markdown",
      "source": [
        "Despite the use of the balanced_subsample parameter the results are not as good. We will therefore try to force the balancing of the data by sub-sampling."
      ],
      "metadata": {
        "id": "ANZ6rhP2TbET"
      }
    },
    {
      "cell_type": "markdown",
      "source": [
        "#Force the balacing of the data"
      ],
      "metadata": {
        "id": "cu7QJZ6HB5Qi"
      }
    },
    {
      "cell_type": "markdown",
      "source": [
        "Creating a dataframe where we will maximize the number of invalid comments."
      ],
      "metadata": {
        "id": "yFLw2eQ_FJfX"
      }
    },
    {
      "cell_type": "code",
      "source": [
        "data_resample = data[(data['threat'] == 1)]\n",
        "data_resample = pd.concat([data_resample,data[(data['severe_toxic'] == 1)]])\n",
        "data_resample = pd.concat([data_resample,data[(data['identity_hate'] == 1)]])\n",
        "data_resample = pd.concat([data_resample,data[(data['insult'] == 1)][0:3000]])\n",
        "data_resample = pd.concat([data_resample,data[(data['obscene'] == 1)][0:3000]])\n",
        "data_resample = pd.concat([data_resample,data[(data['toxic'] == 0) & (data['severe_toxic'] == 0) & (data['obscene'] == 0) & (data['threat'] == 0) & (data['insult'] == 0) & (data['identity_hate'] == 0)][0:4000]])\n",
        "data_resample = data_resample.drop_duplicates()\n",
        "data_resample"
      ],
      "metadata": {
        "id": "2hFPfA1nNiV7",
        "outputId": "b5baa0a6-a417-402d-bcff-7f66346599f1",
        "colab": {
          "base_uri": "https://localhost:8080/",
          "height": 641
        }
      },
      "execution_count": 22,
      "outputs": [
        {
          "output_type": "execute_result",
          "data": {
            "text/plain": [
              "                    id  \\\n",
              "79    003217c3eb469ba9   \n",
              "176   006b94add72ed61c   \n",
              "600   0199d6af27b715f3   \n",
              "802   02230885017a50c5   \n",
              "1017  02c6e41e4b317ac3   \n",
              "...                ...   \n",
              "4473  0bea2dc018cada77   \n",
              "4474  0bea4aa76964217d   \n",
              "4475  0bea81d71b1b37bc   \n",
              "4477  0beabcabe993d0a4   \n",
              "4478  0beaf3cef2bf1500   \n",
              "\n",
              "                                                                                                                                                                                                                                                                                                                                                                                                                                                                                                             comment_text  \\\n",
              "79                                                                                                                                                                                                                                                                                                                                                                                                                                                     Hi! I am back again!\\nLast warning!\\nStop undoing my edits or die!   \n",
              "176                                                                                                                                                                                                                                                                                                                                                                                      I think that your a Fagget get a oife and burn in Hell I hate you 'm sorry we cant have any more sex i'm running out of conndoms   \n",
              "600                                                                                                                                                                                                                                                                                                                                                                          I'm also a sock puppet of this account...SUPRISE!!\\n-sincerely,\\n            The man that will track you down from the Internet and kill you   \n",
              "802                                                                                                                                                                                                                                                                                                                                                                                                                                 Fuck you, Smith. Please have me notified when you die. I want to dance on your grave.   \n",
              "1017                                                                                                                                                                                                                                                                                                                                                               WOULDN'T BE THE FIRST TIME BITCH. FUCK YOU I'LL FIND OUT WHERE YOU LIVE, SODOMIZE YOUR WIFE AND THEN BURN YOUR HOUSE DOWN. FUCK YOU YOU FUCKING QUEER.   \n",
              "...                                                                                                                                                                                                                                                                                                                                                                                                                                                                                                                   ...   \n",
              "4473                                                                                                                                                                               \"\\n\\nLies in intro\\nI deleted where it said, \"\"admired\"\" for his \"\"ability\"\" to write music without paper, because thats an opinion. I also deleted the part where it said hes one of the best selling hip hop artist because when I went to the 2 sources they did not say anything about him being one of the best selling rappers.\"   \n",
              "4474  \"\\n\\nSo why did you remove Live On Air and live at Woodstock. Also Stay The Night had the same kinda release as Nuclear family did which is also a promo single. The Forgotten was the lead single from the twilight soundtrack. And why is it fine to add for example Godzilla: The Album to the appearances section but not have its own section. The title was other appearances, so I a sub for song in other albums and one for songs in soundtracks (which is an album) but yet you remove them without sa...   \n",
              "4475                                                                                                                                        Socially Handicapped\\n\\nI think you're a shut in with a serious social handicap. If you want to delete the Dekker article, go for it. I'm sorry that I dared to fight you on it and I'm equally sorry that someone else has been fighting you just as hard.\\n\\nThe only sock puppet is the one you gladly use to fornicate yourself while picturing your mother spread-eagle.   \n",
              "4477                                                                                                                                                                                                                                                                                                                   They weren't showing up because someone messed up the reference they were adding about the gay magazine. I also removed Multiracial Americans, pending a source that describes him as Multiracial.   \n",
              "4478                                                                                                                                                                                          Although I have no major gripes with the article itself, short as it is, it seems to me ironic that in the last line the article writer is mirroring the cultural stereotypes that Forster explores  since when is Italy not 'the West'? A bit of a pedantic point, I know, but in the context it seemed to me significant.   \n",
              "\n",
              "      toxic  severe_toxic  obscene  threat  insult  identity_hate  \n",
              "79        1             0        0       1       0              0  \n",
              "176       1             0        1       1       1              1  \n",
              "600       1             0        0       1       0              0  \n",
              "802       1             0        1       1       1              0  \n",
              "1017      1             1        1       1       1              1  \n",
              "...     ...           ...      ...     ...     ...            ...  \n",
              "4473      0             0        0       0       0              0  \n",
              "4474      0             0        0       0       0              0  \n",
              "4475      0             0        0       0       0              0  \n",
              "4477      0             0        0       0       0              0  \n",
              "4478      0             0        0       0       0              0  \n",
              "\n",
              "[9802 rows x 8 columns]"
            ],
            "text/html": [
              "\n",
              "  <div id=\"df-32fc64a2-8735-4434-92d1-6905ed56440b\">\n",
              "    <div class=\"colab-df-container\">\n",
              "      <div>\n",
              "<style scoped>\n",
              "    .dataframe tbody tr th:only-of-type {\n",
              "        vertical-align: middle;\n",
              "    }\n",
              "\n",
              "    .dataframe tbody tr th {\n",
              "        vertical-align: top;\n",
              "    }\n",
              "\n",
              "    .dataframe thead th {\n",
              "        text-align: right;\n",
              "    }\n",
              "</style>\n",
              "<table border=\"1\" class=\"dataframe\">\n",
              "  <thead>\n",
              "    <tr style=\"text-align: right;\">\n",
              "      <th></th>\n",
              "      <th>id</th>\n",
              "      <th>comment_text</th>\n",
              "      <th>toxic</th>\n",
              "      <th>severe_toxic</th>\n",
              "      <th>obscene</th>\n",
              "      <th>threat</th>\n",
              "      <th>insult</th>\n",
              "      <th>identity_hate</th>\n",
              "    </tr>\n",
              "  </thead>\n",
              "  <tbody>\n",
              "    <tr>\n",
              "      <th>79</th>\n",
              "      <td>003217c3eb469ba9</td>\n",
              "      <td>Hi! I am back again!\\nLast warning!\\nStop undoing my edits or die!</td>\n",
              "      <td>1</td>\n",
              "      <td>0</td>\n",
              "      <td>0</td>\n",
              "      <td>1</td>\n",
              "      <td>0</td>\n",
              "      <td>0</td>\n",
              "    </tr>\n",
              "    <tr>\n",
              "      <th>176</th>\n",
              "      <td>006b94add72ed61c</td>\n",
              "      <td>I think that your a Fagget get a oife and burn in Hell I hate you 'm sorry we cant have any more sex i'm running out of conndoms</td>\n",
              "      <td>1</td>\n",
              "      <td>0</td>\n",
              "      <td>1</td>\n",
              "      <td>1</td>\n",
              "      <td>1</td>\n",
              "      <td>1</td>\n",
              "    </tr>\n",
              "    <tr>\n",
              "      <th>600</th>\n",
              "      <td>0199d6af27b715f3</td>\n",
              "      <td>I'm also a sock puppet of this account...SUPRISE!!\\n-sincerely,\\n            The man that will track you down from the Internet and kill you</td>\n",
              "      <td>1</td>\n",
              "      <td>0</td>\n",
              "      <td>0</td>\n",
              "      <td>1</td>\n",
              "      <td>0</td>\n",
              "      <td>0</td>\n",
              "    </tr>\n",
              "    <tr>\n",
              "      <th>802</th>\n",
              "      <td>02230885017a50c5</td>\n",
              "      <td>Fuck you, Smith. Please have me notified when you die. I want to dance on your grave.</td>\n",
              "      <td>1</td>\n",
              "      <td>0</td>\n",
              "      <td>1</td>\n",
              "      <td>1</td>\n",
              "      <td>1</td>\n",
              "      <td>0</td>\n",
              "    </tr>\n",
              "    <tr>\n",
              "      <th>1017</th>\n",
              "      <td>02c6e41e4b317ac3</td>\n",
              "      <td>WOULDN'T BE THE FIRST TIME BITCH. FUCK YOU I'LL FIND OUT WHERE YOU LIVE, SODOMIZE YOUR WIFE AND THEN BURN YOUR HOUSE DOWN. FUCK YOU YOU FUCKING QUEER.</td>\n",
              "      <td>1</td>\n",
              "      <td>1</td>\n",
              "      <td>1</td>\n",
              "      <td>1</td>\n",
              "      <td>1</td>\n",
              "      <td>1</td>\n",
              "    </tr>\n",
              "    <tr>\n",
              "      <th>...</th>\n",
              "      <td>...</td>\n",
              "      <td>...</td>\n",
              "      <td>...</td>\n",
              "      <td>...</td>\n",
              "      <td>...</td>\n",
              "      <td>...</td>\n",
              "      <td>...</td>\n",
              "      <td>...</td>\n",
              "    </tr>\n",
              "    <tr>\n",
              "      <th>4473</th>\n",
              "      <td>0bea2dc018cada77</td>\n",
              "      <td>\"\\n\\nLies in intro\\nI deleted where it said, \"\"admired\"\" for his \"\"ability\"\" to write music without paper, because thats an opinion. I also deleted the part where it said hes one of the best selling hip hop artist because when I went to the 2 sources they did not say anything about him being one of the best selling rappers.\"</td>\n",
              "      <td>0</td>\n",
              "      <td>0</td>\n",
              "      <td>0</td>\n",
              "      <td>0</td>\n",
              "      <td>0</td>\n",
              "      <td>0</td>\n",
              "    </tr>\n",
              "    <tr>\n",
              "      <th>4474</th>\n",
              "      <td>0bea4aa76964217d</td>\n",
              "      <td>\"\\n\\nSo why did you remove Live On Air and live at Woodstock. Also Stay The Night had the same kinda release as Nuclear family did which is also a promo single. The Forgotten was the lead single from the twilight soundtrack. And why is it fine to add for example Godzilla: The Album to the appearances section but not have its own section. The title was other appearances, so I a sub for song in other albums and one for songs in soundtracks (which is an album) but yet you remove them without sa...</td>\n",
              "      <td>0</td>\n",
              "      <td>0</td>\n",
              "      <td>0</td>\n",
              "      <td>0</td>\n",
              "      <td>0</td>\n",
              "      <td>0</td>\n",
              "    </tr>\n",
              "    <tr>\n",
              "      <th>4475</th>\n",
              "      <td>0bea81d71b1b37bc</td>\n",
              "      <td>Socially Handicapped\\n\\nI think you're a shut in with a serious social handicap. If you want to delete the Dekker article, go for it. I'm sorry that I dared to fight you on it and I'm equally sorry that someone else has been fighting you just as hard.\\n\\nThe only sock puppet is the one you gladly use to fornicate yourself while picturing your mother spread-eagle.</td>\n",
              "      <td>0</td>\n",
              "      <td>0</td>\n",
              "      <td>0</td>\n",
              "      <td>0</td>\n",
              "      <td>0</td>\n",
              "      <td>0</td>\n",
              "    </tr>\n",
              "    <tr>\n",
              "      <th>4477</th>\n",
              "      <td>0beabcabe993d0a4</td>\n",
              "      <td>They weren't showing up because someone messed up the reference they were adding about the gay magazine. I also removed Multiracial Americans, pending a source that describes him as Multiracial.</td>\n",
              "      <td>0</td>\n",
              "      <td>0</td>\n",
              "      <td>0</td>\n",
              "      <td>0</td>\n",
              "      <td>0</td>\n",
              "      <td>0</td>\n",
              "    </tr>\n",
              "    <tr>\n",
              "      <th>4478</th>\n",
              "      <td>0beaf3cef2bf1500</td>\n",
              "      <td>Although I have no major gripes with the article itself, short as it is, it seems to me ironic that in the last line the article writer is mirroring the cultural stereotypes that Forster explores  since when is Italy not 'the West'? A bit of a pedantic point, I know, but in the context it seemed to me significant.</td>\n",
              "      <td>0</td>\n",
              "      <td>0</td>\n",
              "      <td>0</td>\n",
              "      <td>0</td>\n",
              "      <td>0</td>\n",
              "      <td>0</td>\n",
              "    </tr>\n",
              "  </tbody>\n",
              "</table>\n",
              "<p>9802 rows × 8 columns</p>\n",
              "</div>\n",
              "      <button class=\"colab-df-convert\" onclick=\"convertToInteractive('df-32fc64a2-8735-4434-92d1-6905ed56440b')\"\n",
              "              title=\"Convert this dataframe to an interactive table.\"\n",
              "              style=\"display:none;\">\n",
              "        \n",
              "  <svg xmlns=\"http://www.w3.org/2000/svg\" height=\"24px\"viewBox=\"0 0 24 24\"\n",
              "       width=\"24px\">\n",
              "    <path d=\"M0 0h24v24H0V0z\" fill=\"none\"/>\n",
              "    <path d=\"M18.56 5.44l.94 2.06.94-2.06 2.06-.94-2.06-.94-.94-2.06-.94 2.06-2.06.94zm-11 1L8.5 8.5l.94-2.06 2.06-.94-2.06-.94L8.5 2.5l-.94 2.06-2.06.94zm10 10l.94 2.06.94-2.06 2.06-.94-2.06-.94-.94-2.06-.94 2.06-2.06.94z\"/><path d=\"M17.41 7.96l-1.37-1.37c-.4-.4-.92-.59-1.43-.59-.52 0-1.04.2-1.43.59L10.3 9.45l-7.72 7.72c-.78.78-.78 2.05 0 2.83L4 21.41c.39.39.9.59 1.41.59.51 0 1.02-.2 1.41-.59l7.78-7.78 2.81-2.81c.8-.78.8-2.07 0-2.86zM5.41 20L4 18.59l7.72-7.72 1.47 1.35L5.41 20z\"/>\n",
              "  </svg>\n",
              "      </button>\n",
              "      \n",
              "  <style>\n",
              "    .colab-df-container {\n",
              "      display:flex;\n",
              "      flex-wrap:wrap;\n",
              "      gap: 12px;\n",
              "    }\n",
              "\n",
              "    .colab-df-convert {\n",
              "      background-color: #E8F0FE;\n",
              "      border: none;\n",
              "      border-radius: 50%;\n",
              "      cursor: pointer;\n",
              "      display: none;\n",
              "      fill: #1967D2;\n",
              "      height: 32px;\n",
              "      padding: 0 0 0 0;\n",
              "      width: 32px;\n",
              "    }\n",
              "\n",
              "    .colab-df-convert:hover {\n",
              "      background-color: #E2EBFA;\n",
              "      box-shadow: 0px 1px 2px rgba(60, 64, 67, 0.3), 0px 1px 3px 1px rgba(60, 64, 67, 0.15);\n",
              "      fill: #174EA6;\n",
              "    }\n",
              "\n",
              "    [theme=dark] .colab-df-convert {\n",
              "      background-color: #3B4455;\n",
              "      fill: #D2E3FC;\n",
              "    }\n",
              "\n",
              "    [theme=dark] .colab-df-convert:hover {\n",
              "      background-color: #434B5C;\n",
              "      box-shadow: 0px 1px 3px 1px rgba(0, 0, 0, 0.15);\n",
              "      filter: drop-shadow(0px 1px 2px rgba(0, 0, 0, 0.3));\n",
              "      fill: #FFFFFF;\n",
              "    }\n",
              "  </style>\n",
              "\n",
              "      <script>\n",
              "        const buttonEl =\n",
              "          document.querySelector('#df-32fc64a2-8735-4434-92d1-6905ed56440b button.colab-df-convert');\n",
              "        buttonEl.style.display =\n",
              "          google.colab.kernel.accessAllowed ? 'block' : 'none';\n",
              "\n",
              "        async function convertToInteractive(key) {\n",
              "          const element = document.querySelector('#df-32fc64a2-8735-4434-92d1-6905ed56440b');\n",
              "          const dataTable =\n",
              "            await google.colab.kernel.invokeFunction('convertToInteractive',\n",
              "                                                     [key], {});\n",
              "          if (!dataTable) return;\n",
              "\n",
              "          const docLinkHtml = 'Like what you see? Visit the ' +\n",
              "            '<a target=\"_blank\" href=https://colab.research.google.com/notebooks/data_table.ipynb>data table notebook</a>'\n",
              "            + ' to learn more about interactive tables.';\n",
              "          element.innerHTML = '';\n",
              "          dataTable['output_type'] = 'display_data';\n",
              "          await google.colab.output.renderOutput(dataTable, element);\n",
              "          const docLink = document.createElement('div');\n",
              "          docLink.innerHTML = docLinkHtml;\n",
              "          element.appendChild(docLink);\n",
              "        }\n",
              "      </script>\n",
              "    </div>\n",
              "  </div>\n",
              "  "
            ]
          },
          "metadata": {},
          "execution_count": 22
        }
      ]
    },
    {
      "cell_type": "code",
      "source": [
        "fig = plt.figure()\n",
        "ax = fig.add_axes([0,0,1,1])\n",
        "types = ['Valide', 'Toxic', 'Severe Toxic','Obscene', 'Threat', 'Insult', 'Identity Hate']\n",
        "values = [\n",
        "          len(data_resample[(data_resample['toxic'] == 0) & (data_resample['severe_toxic'] == 0) & (data_resample['obscene'] == 0) & (data_resample['threat'] == 0) & (data_resample['insult'] == 0) & (data_resample['identity_hate'] == 0)]),\n",
        "          data_resample['toxic'].value_counts()[1],\n",
        "          data_resample['severe_toxic'].value_counts()[1],\n",
        "          data_resample['obscene'].value_counts()[1],\n",
        "          data_resample['threat'].value_counts()[1],\n",
        "          data_resample['insult'].value_counts()[1],\n",
        "          data_resample['identity_hate'].value_counts()[1],\n",
        "          ]\n",
        "ax.bar(types,values)\n",
        "plt.show()"
      ],
      "metadata": {
        "id": "sFrKtqoA_xgc",
        "outputId": "6214ffad-5c27-41f9-f4b1-4ad2e06960f9",
        "colab": {
          "base_uri": "https://localhost:8080/",
          "height": 336
        }
      },
      "execution_count": 23,
      "outputs": [
        {
          "output_type": "display_data",
          "data": {
            "text/plain": [
              "<Figure size 432x288 with 1 Axes>"
            ],
            "image/png": "[encoded data removed]"
          },
          "metadata": {
            "needs_background": "light"
          }
        }
      ]
    },
    {
      "cell_type": "markdown",
      "source": [
        "Now we will create the td_idf with all values re-sample"
      ],
      "metadata": {
        "id": "S3T7VwMsVOaj"
      }
    },
    {
      "cell_type": "code",
      "source": [
        "df_idf = data_resample.copy()"
      ],
      "metadata": {
        "id": "o7vvwR7VVg-E"
      },
      "execution_count": 30,
      "outputs": []
    },
    {
      "cell_type": "code",
      "source": [
        "%%time\n",
        "# Apply prepare_string to all rows in 'tweets' column\n",
        "df_idf['comment_text'] = df_idf['comment_text'].apply(lambda s : prepare_string(s))\n",
        "\n",
        "# Drop empty values from dataframe\n",
        "df_idf['comment_text'].replace('', np.nan, inplace=True)\n",
        "df_idf.dropna(subset=['comment_text'], inplace=True)\n",
        "\n",
        "df_idf.head(5)"
      ],
      "metadata": {
        "id": "QYO-UW6kVOOh",
        "outputId": "3be1584b-73a4-4b10-fc9f-868a31c7ae13",
        "colab": {
          "base_uri": "https://localhost:8080/"
        }
      },
      "execution_count": 31,
      "outputs": [
        {
          "output_type": "stream",
          "name": "stdout",
          "text": [
            "CPU times: user 9.23 s, sys: 47.5 ms, total: 9.28 s\n",
            "Wall time: 10.6 s\n"
          ]
        }
      ]
    },
    {
      "cell_type": "markdown",
      "source": [
        "Creation of the model"
      ],
      "metadata": {
        "id": "XrjukV0UrYZJ"
      }
    },
    {
      "cell_type": "code",
      "source": [
        "tfIdfVectorizer = TfidfVectorizer()\n",
        "\n",
        "X = tfIdfVectorizer.fit_transform(df_idf['comment_text']).toarray()\n",
        "y = df_idf.drop(['id','comment_text'], axis=1).to_numpy()\n",
        "\n",
        "X_train, X_test, y_train, y_test = train_test_split(X, y, test_size=.025, random_state=0)"
      ],
      "metadata": {
        "id": "yaDrTMAlVsN3"
      },
      "execution_count": 32,
      "outputs": []
    },
    {
      "cell_type": "code",
      "source": [
        "text_classifier = RandomForestClassifier(n_estimators=15, random_state=1)  \n",
        "text_classifier.fit(X_train, y_train )"
      ],
      "metadata": {
        "id": "FPYTRgZeWuhd",
        "outputId": "8556a0bc-3597-4237-cf36-ce35d6cc5688",
        "colab": {
          "base_uri": "https://localhost:8080/"
        }
      },
      "execution_count": 36,
      "outputs": [
        {
          "output_type": "execute_result",
          "data": {
            "text/plain": [
              "RandomForestClassifier(n_estimators=15, random_state=1)"
            ]
          },
          "metadata": {},
          "execution_count": 36
        }
      ]
    },
    {
      "cell_type": "code",
      "source": [
        "print(\"Model score : {} \".format(text_classifier.score(X_test, y_test)))"
      ],
      "metadata": {
        "id": "pbFBvqjQWy9t",
        "outputId": "1e1e0fa2-88b7-4a97-fc06-1a0c53c65dca",
        "colab": {
          "base_uri": "https://localhost:8080/"
        }
      },
      "execution_count": 37,
      "outputs": [
        {
          "output_type": "stream",
          "name": "stdout",
          "text": [
            "Model score : 0.5836734693877551 \n"
          ]
        }
      ]
    },
    {
      "cell_type": "code",
      "source": [
        "Y_test = text_classifier.predict(X_test)\n",
        "\n",
        "labels = ['toxic', 'severe_toxic', 'obscene', 'threat', 'insult', 'identity_hate']\n",
        "for i in range(len(labels)):\n",
        "  error, success, false_pos, false_neg = compareColumnPredictTarget(i,Y_test,y_test)\n",
        "  print(\"For label : {0} we have {1} success and {2} errors ({3} false positive and {4} false negative).\".format(labels[i], success, error, false_pos, false_neg))"
      ],
      "metadata": {
        "id": "jRICavVEWydJ",
        "outputId": "40bba2bc-a55c-41c5-9090-892d2019f582",
        "colab": {
          "base_uri": "https://localhost:8080/"
        }
      },
      "execution_count": 39,
      "outputs": [
        {
          "output_type": "stream",
          "name": "stdout",
          "text": [
            "For label : toxic we have 118 success and 26 errors (9 false positive and 17 false negative).\n",
            "For label : severe_toxic we have 10 success and 27 errors (4 false positive and 23 false negative).\n",
            "For label : obscene we have 89 success and 34 errors (11 false positive and 23 false negative).\n",
            "For label : threat we have 2 success and 9 errors (0 false positive and 9 false negative).\n",
            "For label : insult we have 85 success and 41 errors (20 false positive and 21 false negative).\n",
            "For label : identity_hate we have 9 success and 22 errors (1 false positive and 21 false negative).\n"
          ]
        }
      ]
    },
    {
      "cell_type": "markdown",
      "source": [
        ""
      ],
      "metadata": {
        "id": "zOT3E89CvFog"
      }
    }
  ]
}